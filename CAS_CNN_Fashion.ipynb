{
 "cells": [
  {
   "cell_type": "markdown",
   "metadata": {
    "id": "uZE6RDfi6eR6"
   },
   "source": [
    "## Setup\n",
    "\n",
    "We start by downloading and preparing the dataset for you. The training images are in `train_images` and the testing images are in `test_images`."
   ]
  },
  {
   "cell_type": "code",
   "execution_count": 1,
   "metadata": {
    "id": "-vyEJmVc5Fln"
   },
   "outputs": [
    {
     "name": "stdout",
     "output_type": "stream",
     "text": [
      "WARNING:tensorflow:From C:\\Users\\diabomba\\anaconda3\\envs\\ETH_CAS_AIS_2024\\Lib\\site-packages\\keras\\src\\losses.py:2976: The name tf.losses.sparse_softmax_cross_entropy is deprecated. Please use tf.compat.v1.losses.sparse_softmax_cross_entropy instead.\n",
      "\n",
      "Downloading data from https://storage.googleapis.com/tensorflow/tf-keras-datasets/train-labels-idx1-ubyte.gz\n",
      "29515/29515 [==============================] - 0s 4us/step\n",
      "Downloading data from https://storage.googleapis.com/tensorflow/tf-keras-datasets/train-images-idx3-ubyte.gz\n",
      "26421880/26421880 [==============================] - 21s 1us/step\n",
      "Downloading data from https://storage.googleapis.com/tensorflow/tf-keras-datasets/t10k-labels-idx1-ubyte.gz\n",
      "5148/5148 [==============================] - 0s 0s/step\n",
      "Downloading data from https://storage.googleapis.com/tensorflow/tf-keras-datasets/t10k-images-idx3-ubyte.gz\n",
      "4422102/4422102 [==============================] - 8s 2us/step\n"
     ]
    }
   ],
   "source": [
    "import tensorflow as tf\n",
    "from tensorflow.keras.datasets import fashion_mnist\n",
    "\n",
    "# Load the dataset\n",
    "(train_images, train_labels), (test_images, test_labels) = fashion_mnist.load_data()\n",
    "\n",
    "# Filter the data for binary classification task: \"T-shirt/top\" (class 0) vs. \"Trouser\" (class 1)\n",
    "def filter_images(images, labels):\n",
    "    keep = (labels == 0) | (labels == 1)  # Keep only labels 0 and 1\n",
    "    new_images = images[keep]\n",
    "    new_labels = labels[keep]\n",
    "    return new_images, new_labels\n",
    "\n",
    "train_images, train_labels = filter_images(train_images, train_labels)\n",
    "test_images, test_labels = filter_images(test_images, test_labels)\n",
    "\n",
    "# Preprocess the data\n",
    "train_images = train_images / 255.0\n",
    "test_images = test_images / 255.0\n",
    "\n",
    "# Add a channel dimension\n",
    "train_images = train_images[..., tf.newaxis]\n",
    "test_images = test_images[..., tf.newaxis]"
   ]
  },
  {
   "cell_type": "markdown",
   "metadata": {
    "id": "k01xJVny6HT7"
   },
   "source": [
    "The code below displays some images in the training and testing sets"
   ]
  },
  {
   "cell_type": "code",
   "execution_count": 2,
   "metadata": {
    "id": "w7NyPqOT6LXg"
   },
   "outputs": [
    {
     "data": {
      "image/png": "[encoded data removed]",
      "text/plain": [
       "<Figure size 1000x1000 with 5 Axes>"
      ]
     },
     "metadata": {},
     "output_type": "display_data"
    },
    {
     "data": {
      "image/png": "[encoded data removed]",
      "text/plain": [
       "<Figure size 1000x1000 with 5 Axes>"
      ]
     },
     "metadata": {},
     "output_type": "display_data"
    }
   ],
   "source": [
    "import matplotlib.pyplot as plt\n",
    "\n",
    "# Function to display images\n",
    "def display_images(images, labels, num_images=5):\n",
    "    plt.figure(figsize=(10,10))\n",
    "    for i in range(num_images):\n",
    "        plt.subplot(1, num_images, i+1)\n",
    "        plt.xticks([])\n",
    "        plt.yticks([])\n",
    "        plt.grid(False)\n",
    "        plt.imshow(images[i].reshape(28, 28), cmap=plt.cm.binary)\n",
    "        plt.xlabel(['T-shirt/top', 'Trouser'][labels[i]])\n",
    "    plt.show()\n",
    "\n",
    "# Display images from the training set\n",
    "display_images(train_images, train_labels)\n",
    "\n",
    "# Display images from the testing set\n",
    "display_images(test_images, test_labels)"
   ]
  },
  {
   "cell_type": "markdown",
   "metadata": {
    "id": "2Dt-gCJK5LYv"
   },
   "source": [
    "Your task now is to train a CNN that can correctly distinguish between T-shirts and trousers with almost 100% accuracy.\\"
   ]
  },
  {
   "cell_type": "code",
   "execution_count": 29,
   "metadata": {
    "id": "PJz4wIAj5QtX"
   },
   "outputs": [
    {
     "name": "stdout",
     "output_type": "stream",
     "text": [
      "Model: \"sequential_24\"\n",
      "_________________________________________________________________\n",
      " Layer (type)                Output Shape              Param #   \n",
      "=================================================================\n",
      " conv2d_26 (Conv2D)          (None, 25, 25, 128)       2176      \n",
      "                                                                 \n",
      " max_pooling2d_26 (MaxPooli  (None, 12, 12, 128)       0         \n",
      " ng2D)                                                           \n",
      "                                                                 \n",
      " flatten_24 (Flatten)        (None, 18432)             0         \n",
      "                                                                 \n",
      " dense_58 (Dense)            (None, 32)                589856    \n",
      "                                                                 \n",
      " dense_59 (Dense)            (None, 1)                 33        \n",
      "                                                                 \n",
      "=================================================================\n",
      "Total params: 592065 (2.26 MB)\n",
      "Trainable params: 592065 (2.26 MB)\n",
      "Non-trainable params: 0 (0.00 Byte)\n",
      "_________________________________________________________________\n",
      "Epoch 1/10\n",
      "375/375 [==============================] - 8s 20ms/step - loss: 0.0462 - accuracy: 0.9843 - val_loss: 0.0206 - val_accuracy: 0.9920\n",
      "Epoch 2/10\n",
      "375/375 [==============================] - 7s 17ms/step - loss: 0.0201 - accuracy: 0.9935 - val_loss: 0.0180 - val_accuracy: 0.9935\n",
      "Epoch 3/10\n",
      "375/375 [==============================] - 6s 17ms/step - loss: 0.0149 - accuracy: 0.9952 - val_loss: 0.0293 - val_accuracy: 0.9885\n",
      "Epoch 4/10\n",
      "375/375 [==============================] - 7s 18ms/step - loss: 0.0103 - accuracy: 0.9967 - val_loss: 0.0468 - val_accuracy: 0.9860\n",
      "Epoch 5/10\n",
      "375/375 [==============================] - 6s 17ms/step - loss: 0.0085 - accuracy: 0.9972 - val_loss: 0.0167 - val_accuracy: 0.9935\n",
      "Epoch 6/10\n",
      "375/375 [==============================] - 7s 18ms/step - loss: 0.0062 - accuracy: 0.9982 - val_loss: 0.0154 - val_accuracy: 0.9940\n",
      "Epoch 7/10\n",
      "375/375 [==============================] - 7s 18ms/step - loss: 0.0040 - accuracy: 0.9987 - val_loss: 0.0236 - val_accuracy: 0.9935\n",
      "Epoch 8/10\n",
      "375/375 [==============================] - 7s 19ms/step - loss: 0.0060 - accuracy: 0.9978 - val_loss: 0.0168 - val_accuracy: 0.9940\n",
      "Epoch 9/10\n",
      "375/375 [==============================] - 7s 17ms/step - loss: 0.0045 - accuracy: 0.9982 - val_loss: 0.0178 - val_accuracy: 0.9945\n",
      "Epoch 10/10\n",
      "375/375 [==============================] - 6s 17ms/step - loss: 0.0022 - accuracy: 0.9992 - val_loss: 0.0248 - val_accuracy: 0.9915\n",
      "63/63 [==============================] - 0s 5ms/step - loss: 0.0248 - accuracy: 0.9915\n",
      "\n",
      "Test accuracy: 0.9915000200271606\n"
     ]
    }
   ],
   "source": [
    "import tensorflow as tf\n",
    "from tensorflow.keras import layers, models\n",
    "\n",
    "# Assuming you've already filtered train_images, train_labels, test_images, and test_labels\n",
    "# And added a channel dimension to your images\n",
    "\n",
    "# Define the CNN model\n",
    "model = models.Sequential([\n",
    "    layers.Conv2D(128, (4,4), activation='relu', input_shape=(28, 28, 1)),\n",
    "    layers.MaxPooling2D((2,2)),\n",
    "    layers.Flatten(),\n",
    "    layers.Dense(32, activation='relu'),\n",
    "    layers.Dense(1, activation='sigmoid')\n",
    "])\n",
    "\n",
    "# Compile the model\n",
    "model.compile(optimizer='adam',\n",
    "              loss='binary_crossentropy',\n",
    "              metrics=['accuracy'])\n",
    "\n",
    "# Model summary\n",
    "model.summary()\n",
    "\n",
    "# Train the model\n",
    "history = model.fit(train_images, train_labels, epochs=10,\n",
    "                    validation_data=(test_images, test_labels))\n",
    "\n",
    "# Evaluate the model\n",
    "test_loss, test_acc = model.evaluate(test_images, test_labels)\n",
    "print('\\nTest accuracy:', test_acc)\n"
   ]
  },
  {
   "cell_type": "code",
   "execution_count": null,
   "metadata": {},
   "outputs": [],
   "source": []
  }
 ],
 "metadata": {
  "accelerator": "GPU",
  "colab": {
   "gpuType": "T4",
   "provenance": []
  },
  "kernelspec": {
   "display_name": "Python 3 (ipykernel)",
   "language": "python",
   "name": "python3"
  },
  "language_info": {
   "codemirror_mode": {
    "name": "ipython",
    "version": 3
   },
   "file_extension": ".py",
   "mimetype": "text/x-python",
   "name": "python",
   "nbconvert_exporter": "python",
   "pygments_lexer": "ipython3",
   "version": "3.11.5"
  }
 },
 "nbformat": 4,
 "nbformat_minor": 1
}

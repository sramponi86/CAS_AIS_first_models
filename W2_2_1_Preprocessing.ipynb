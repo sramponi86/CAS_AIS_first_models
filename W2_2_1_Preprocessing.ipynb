{
  "cells": [
    {
      "cell_type": "markdown",
      "metadata": {
        "id": "view-in-github",
        "colab_type": "text"
      },
      "source": [
        "<a href=\"https://colab.research.google.com/github/sramponi86/CAS_AIS_first_models/blob/main/W2_2_1_Preprocessing.ipynb\" target=\"_parent\"><img src=\"https://colab.research.google.com/assets/colab-badge.svg\" alt=\"Open In Colab\"/></a>"
      ]
    },
    {
      "cell_type": "markdown",
      "id": "e1ef19cc",
      "metadata": {
        "id": "e1ef19cc"
      },
      "source": [
        "# Text Preprocessing\n",
        "Preprocessing of text data has long been a key enabler for natural language processing. As the focus was on \"pure\" text data, side information such as formatting was not considered relevant.\n",
        "\n",
        "With the advent of large language models and their application to essentially any form of text -- that means, including e.g., HTML markup code and Python programs -- preprocessing has lost a lot of its prior importance, as nowadays the expectation is that the large language model should be able to appropriately handle e.g., HTML tags; i.e., it should identify them and either suppress them (if asked to extract the text) or correctly place them when prompted to produce a correctly coded website.\n",
        "\n",
        "For this reason, we will treat preprocessing rather briefly and just highlight a few examples. We will work with spaCy."
      ]
    },
    {
      "cell_type": "markdown",
      "id": "e26ce654",
      "metadata": {
        "id": "e26ce654"
      },
      "source": [
        "## Prepratation"
      ]
    },
    {
      "cell_type": "code",
      "execution_count": 1,
      "id": "36d91eb1",
      "metadata": {
        "id": "36d91eb1"
      },
      "outputs": [],
      "source": [
        "import spacy"
      ]
    },
    {
      "cell_type": "code",
      "execution_count": 2,
      "id": "0eccc0f0-223a-4cbf-9c30-3f839c122fc7",
      "metadata": {
        "id": "0eccc0f0-223a-4cbf-9c30-3f839c122fc7"
      },
      "outputs": [],
      "source": [
        "# if necessary, install spacy and language models via anaconda or similar\n",
        "# en_core_web_sm is called spacy-model-en_core_web_sm in Anaconda\n",
        "# Or, directly from the notebook, you can install it with the following command:\n",
        "# !python -m spacy download en_core_web_sm"
      ]
    },
    {
      "cell_type": "code",
      "execution_count": 3,
      "id": "8d9004ce",
      "metadata": {
        "id": "8d9004ce"
      },
      "outputs": [],
      "source": [
        "# Load a language model - here we choose a rather small one for English trained on data scapped from the web.\n",
        "nlp = spacy.load(\"en_core_web_sm\")"
      ]
    },
    {
      "cell_type": "markdown",
      "id": "8cd8eeb6",
      "metadata": {
        "id": "8cd8eeb6"
      },
      "source": [
        "`nlp` is a 'traditional' language model, i.e., it contains the components of the classical NLP pipeline."
      ]
    },
    {
      "cell_type": "code",
      "execution_count": 4,
      "id": "cbfbf330",
      "metadata": {
        "id": "cbfbf330"
      },
      "outputs": [],
      "source": [
        "text = \"The CAS AIS provides a targeted education in software, machine learning (ML) and artificial intelligence (AI)\""
      ]
    },
    {
      "cell_type": "markdown",
      "id": "a1d42efc",
      "metadata": {
        "id": "a1d42efc"
      },
      "source": [
        "We can directly run this text through the the model:"
      ]
    },
    {
      "cell_type": "code",
      "execution_count": 5,
      "id": "63f76472",
      "metadata": {
        "colab": {
          "base_uri": "https://localhost:8080/"
        },
        "id": "63f76472",
        "outputId": "e1ea6f23-8660-40bf-e545-efde21a2c56f"
      },
      "outputs": [
        {
          "output_type": "execute_result",
          "data": {
            "text/plain": [
              "The CAS AIS provides a targeted education in software, machine learning (ML) and artificial intelligence (AI)"
            ]
          },
          "metadata": {},
          "execution_count": 5
        }
      ],
      "source": [
        "nlp(text)"
      ]
    },
    {
      "cell_type": "markdown",
      "id": "d18fb4be",
      "metadata": {
        "id": "d18fb4be"
      },
      "source": [
        "## Tokenization"
      ]
    },
    {
      "cell_type": "markdown",
      "id": "b3c1d372",
      "metadata": {
        "id": "b3c1d372"
      },
      "source": [
        "We can now access the individual tokens of the text as a list:"
      ]
    },
    {
      "cell_type": "code",
      "execution_count": 6,
      "id": "22cc4a42",
      "metadata": {
        "colab": {
          "base_uri": "https://localhost:8080/"
        },
        "id": "22cc4a42",
        "outputId": "5193a0ac-ada9-4210-aa75-fa42ddfd3a84"
      },
      "outputs": [
        {
          "output_type": "stream",
          "name": "stdout",
          "text": [
            "['The', 'CAS', 'AIS', 'provides', 'a', 'targeted', 'education', 'in', 'software', ',', 'machine', 'learning', '(', 'ML', ')', 'and', 'artificial', 'intelligence', '(', 'AI', ')']\n"
          ]
        }
      ],
      "source": [
        "print([str(token) for token in nlp(text)])"
      ]
    },
    {
      "cell_type": "code",
      "execution_count": 7,
      "id": "7b2142fa",
      "metadata": {
        "colab": {
          "base_uri": "https://localhost:8080/"
        },
        "id": "7b2142fa",
        "outputId": "262709f1-de24-4239-b7ff-9122f6444077"
      },
      "outputs": [
        {
          "output_type": "stream",
          "name": "stdout",
          "text": [
            "['the', 'cas', 'ais', 'provides', 'a', 'targeted', 'education', 'in', 'software', ',', 'machine', 'learning', '(', 'ml', ')', 'and', 'artificial', 'intelligence', '(', 'ai', ')']\n"
          ]
        }
      ],
      "source": [
        "print([str(token) for token in nlp(text.lower())])"
      ]
    },
    {
      "cell_type": "markdown",
      "id": "56c9c6f0",
      "metadata": {
        "id": "56c9c6f0"
      },
      "source": [
        "Our default sentence is rather simple in this regard. We move on to a more complicated one:"
      ]
    },
    {
      "cell_type": "code",
      "execution_count": 8,
      "id": "8210fea4",
      "metadata": {
        "colab": {
          "base_uri": "https://localhost:8080/"
        },
        "id": "8210fea4",
        "outputId": "5409725f-1f8b-429b-d9ef-59a8581823f3"
      },
      "outputs": [
        {
          "output_type": "stream",
          "name": "stdout",
          "text": [
            "['mary', ',', 'do', 'n’t', 'slap', 'the', 'green', 'witch']\n"
          ]
        }
      ],
      "source": [
        "text = \"Mary, don’t slap the green witch\"\n",
        "doc = nlp(text.lower())\n",
        "print([str(token) for token in doc ])"
      ]
    },
    {
      "cell_type": "markdown",
      "id": "ff0cd129",
      "metadata": {
        "id": "ff0cd129"
      },
      "source": [
        "Here we see that the part \"don't\" has been split into 'do' and \"n't\" (for 'not'), thus separating these two parts that have been concatenated together."
      ]
    },
    {
      "cell_type": "markdown",
      "id": "7d03fa1c",
      "metadata": {
        "id": "7d03fa1c"
      },
      "source": [
        "## Lemmatization and Morphology\n",
        "spaCy returns many other informations about the tokens in the text:"
      ]
    },
    {
      "cell_type": "code",
      "execution_count": 9,
      "id": "086b60a7",
      "metadata": {
        "colab": {
          "base_uri": "https://localhost:8080/"
        },
        "id": "086b60a7",
        "outputId": "83d559e0-0c00-47c9-dff2-4d839f4005b1"
      },
      "outputs": [
        {
          "output_type": "stream",
          "name": "stdout",
          "text": [
            "mary -> mary: Number=Sing\n",
            ", -> ,: PunctType=Comm\n",
            "do -> do: Mood=Ind|Tense=Pres|VerbForm=Fin\n",
            "n’t -> not: Polarity=Neg\n",
            "slap -> slap: VerbForm=Inf\n",
            "the -> the: Definite=Def|PronType=Art\n",
            "green -> green: Degree=Pos\n",
            "witch -> witch: Number=Sing\n"
          ]
        }
      ],
      "source": [
        "# doc = nlp(u\"he was running late\")\n",
        "for token in doc:\n",
        "    print('{} -> {}: {}'.format(token, token.lemma_, token.morph))"
      ]
    },
    {
      "cell_type": "code",
      "execution_count": 10,
      "id": "9a3baf79",
      "metadata": {
        "colab": {
          "base_uri": "https://localhost:8080/"
        },
        "id": "9a3baf79",
        "outputId": "a48e822d-b097-4be6-e4bf-8b59c76366af"
      },
      "outputs": [
        {
          "output_type": "stream",
          "name": "stdout",
          "text": [
            "Andreas -> Andreas: Number=Sing\n",
            "Streich -> Streich: Number=Sing\n",
            "was -> be: Mood=Ind|Number=Sing|Person=3|Tense=Past|VerbForm=Fin\n",
            "running -> run: Aspect=Prog|Tense=Pres|VerbForm=Part\n",
            "late -> late: \n"
          ]
        }
      ],
      "source": [
        "doc = nlp(u\"Andreas Streich was running late\")\n",
        "for token in doc:\n",
        "    print('{} -> {}: {}'.format(token, token.lemma_, token.morph))"
      ]
    },
    {
      "cell_type": "markdown",
      "id": "3f6c85f2",
      "metadata": {
        "id": "3f6c85f2"
      },
      "source": [
        "## Sentence Parsing\n",
        "Next, we can identify the different parts of the sentence (PoS):"
      ]
    },
    {
      "cell_type": "code",
      "execution_count": 11,
      "id": "ff6cae13",
      "metadata": {
        "colab": {
          "base_uri": "https://localhost:8080/"
        },
        "id": "ff6cae13",
        "outputId": "3d5fddbe-b69b-4e88-9829-c88a714d5ae8"
      },
      "outputs": [
        {
          "output_type": "stream",
          "name": "stdout",
          "text": [
            "Mary - PROPN\n",
            "slapped - VERB\n",
            "the - DET\n",
            "green - ADJ\n",
            "witch - NOUN\n",
            ". - PUNCT\n"
          ]
        }
      ],
      "source": [
        "doc = nlp(\"Mary slapped the green witch.\")\n",
        "for token in doc:\n",
        "    print('{} - {}'.format(token, token.pos_))"
      ]
    },
    {
      "cell_type": "code",
      "execution_count": 12,
      "id": "b05bd50b",
      "metadata": {
        "colab": {
          "base_uri": "https://localhost:8080/"
        },
        "id": "b05bd50b",
        "outputId": "19adc37a-2f2c-4f00-ca77-c8e2daeae9ab"
      },
      "outputs": [
        {
          "output_type": "stream",
          "name": "stdout",
          "text": [
            "he - PRON\n",
            "was - AUX\n",
            "running - VERB\n",
            "late - ADV\n",
            ". - PUNCT\n"
          ]
        }
      ],
      "source": [
        "doc = nlp(\"he was running late.\")\n",
        "for token in doc:\n",
        "    print('{} - {}'.format(token, token.pos_))"
      ]
    },
    {
      "cell_type": "code",
      "execution_count": 13,
      "id": "34f2698a",
      "metadata": {
        "colab": {
          "base_uri": "https://localhost:8080/"
        },
        "id": "34f2698a",
        "outputId": "2549bad6-a397-442b-ae3b-70de21710d6b"
      },
      "outputs": [
        {
          "output_type": "stream",
          "name": "stdout",
          "text": [
            "The - DET\n",
            "CAS - PROPN\n",
            "AIS - PROPN\n",
            "provides - VERB\n",
            "a - DET\n",
            "targeted - ADJ\n",
            "education - NOUN\n",
            "in - ADP\n",
            "software - NOUN\n",
            ", - PUNCT\n",
            "machine - NOUN\n",
            "learning - NOUN\n",
            "( - PUNCT\n",
            "ML - PROPN\n",
            ") - PUNCT\n",
            "and - CCONJ\n",
            "artificial - ADJ\n",
            "intelligence - NOUN\n",
            "( - PUNCT\n",
            "AI - PROPN\n",
            ") - PUNCT\n",
            ". - PUNCT\n",
            "It - PRON\n",
            "is - AUX\n",
            "offered - VERB\n",
            "by - ADP\n",
            "ETH - PROPN\n",
            "Zurich - PROPN\n"
          ]
        }
      ],
      "source": [
        "doc = nlp(\"The CAS AIS provides a targeted education in software, machine learning (ML) \\\n",
        "and artificial intelligence (AI). It is offered by ETH Zurich\")\n",
        "\n",
        "for token in doc:\n",
        "    print('{} - {}'.format(token, token.pos_))"
      ]
    },
    {
      "cell_type": "markdown",
      "id": "080a1796",
      "metadata": {
        "id": "080a1796"
      },
      "source": [
        "## Stop Words\n",
        "Stop words are very common words that are considered to be uninformative and therefore often removed in classical NLP approaches."
      ]
    },
    {
      "cell_type": "code",
      "execution_count": 14,
      "id": "1876a0eb",
      "metadata": {
        "colab": {
          "base_uri": "https://localhost:8080/"
        },
        "id": "1876a0eb",
        "outputId": "794aaff0-ce3e-464e-823b-e505534b3f2f"
      },
      "outputs": [
        {
          "output_type": "stream",
          "name": "stdout",
          "text": [
            "The - True\n",
            "CAS - False\n",
            "AIS - False\n",
            "provides - False\n",
            "a - True\n",
            "targeted - False\n",
            "education - False\n",
            "in - True\n",
            "software - False\n",
            ", - False\n",
            "machine - False\n",
            "learning - False\n",
            "( - False\n",
            "ML - False\n",
            ") - False\n",
            "and - True\n",
            "artificial - False\n",
            "intelligence - False\n",
            "( - False\n",
            "AI - False\n",
            ") - False\n",
            ". - False\n",
            "It - True\n",
            "is - True\n",
            "offered - False\n",
            "by - True\n",
            "ETH - False\n",
            "Zurich - False\n"
          ]
        }
      ],
      "source": [
        "for token in doc:\n",
        "    print('{} - {}'.format(token.text, token.is_stop))"
      ]
    },
    {
      "cell_type": "markdown",
      "id": "2d170eac",
      "metadata": {
        "id": "2d170eac"
      },
      "source": [
        "## Noun Chunks and Named Entities\n",
        "`spaCy` can also identify different noun chunks, i.e., base noun phrases:"
      ]
    },
    {
      "cell_type": "code",
      "execution_count": 15,
      "id": "4a214d3e",
      "metadata": {
        "colab": {
          "base_uri": "https://localhost:8080/"
        },
        "id": "4a214d3e",
        "outputId": "4dcced0c-fec3-47f2-eda7-9deaf7086325"
      },
      "outputs": [
        {
          "output_type": "stream",
          "name": "stdout",
          "text": [
            "The CAS AIS - NP\n",
            "a targeted education - NP\n",
            "software - NP\n",
            "machine learning - NP\n",
            "artificial intelligence - NP\n",
            "AI - NP\n",
            "It - NP\n",
            "ETH Zurich - NP\n"
          ]
        }
      ],
      "source": [
        "for chunk in doc.noun_chunks:\n",
        "    print ('{} - {}'.format(chunk, chunk.label_))"
      ]
    },
    {
      "cell_type": "markdown",
      "id": "911dcc92",
      "metadata": {
        "id": "911dcc92"
      },
      "source": [
        "Next we want to look at named entities, i.e. persons, organisation etc. These are often of particular interest (in the sense of information extraction - who is this text about?), and they need to be handled specially when processing the text: Their names can consist of several words, and there is typically no translation:"
      ]
    },
    {
      "cell_type": "code",
      "execution_count": 16,
      "id": "645d83c1",
      "metadata": {
        "id": "645d83c1"
      },
      "outputs": [],
      "source": [
        "mydoc = nlp(\"The CAS AIS provides a targeted education in software, machine learning (ML) \\\n",
        "and artificial intelligence (AI). It is offered by ETH Zurich\")"
      ]
    },
    {
      "cell_type": "code",
      "execution_count": 17,
      "id": "0fc9a63f",
      "metadata": {
        "colab": {
          "base_uri": "https://localhost:8080/"
        },
        "id": "0fc9a63f",
        "outputId": "f6f55aac-18c4-484c-f533-570926599298"
      },
      "outputs": [
        {
          "output_type": "stream",
          "name": "stdout",
          "text": [
            "ML ORG\n",
            "AI ORG\n",
            "ETH Zurich ORG\n"
          ]
        }
      ],
      "source": [
        "for ent in mydoc.ents:\n",
        "    print(ent.text, ent.label_)"
      ]
    },
    {
      "cell_type": "code",
      "execution_count": 18,
      "id": "b27e0930",
      "metadata": {
        "colab": {
          "base_uri": "https://localhost:8080/"
        },
        "id": "b27e0930",
        "outputId": "6390626e-7633-44c7-f05f-6547b428a186"
      },
      "outputs": [
        {
          "output_type": "stream",
          "name": "stdout",
          "text": [
            "Andreas Streich --> PERSON\n",
            "ETH Zurich --> ORG\n",
            "Last year --> DATE\n",
            "the United States of America --> GPE\n"
          ]
        }
      ],
      "source": [
        "mydoc = nlp(\"My name is Andreas Streich. I wort at ETH Zurich. \\\n",
        "             Last year, I was travelling to the United States of America\")\n",
        "for ent in mydoc.ents:\n",
        "    print(ent.text, '-->', ent.label_)"
      ]
    },
    {
      "cell_type": "markdown",
      "id": "5fc35ccb",
      "metadata": {
        "id": "5fc35ccb"
      },
      "source": [
        "## Dependency Parsing\n",
        "Futhermore, we can identify which part of the sentence is depending on which other (e.g., subject, object, etc.)"
      ]
    },
    {
      "cell_type": "code",
      "execution_count": 19,
      "id": "845b0d2b",
      "metadata": {
        "id": "845b0d2b"
      },
      "outputs": [],
      "source": [
        "mydoc = nlp(\"The CAS AIS provides a targeted education in software, machine learning (ML) \\\n",
        "and artificial intelligence (AI). It is offered by ETH Zurich\")"
      ]
    },
    {
      "cell_type": "code",
      "execution_count": 20,
      "id": "c93f92e2",
      "metadata": {
        "colab": {
          "base_uri": "https://localhost:8080/"
        },
        "id": "c93f92e2",
        "outputId": "8f35dd26-9405-4421-ded0-bd9e69362025"
      },
      "outputs": [
        {
          "output_type": "stream",
          "name": "stdout",
          "text": [
            "The CAS AIS - AIS - nsubj - provides\n",
            "a targeted education - education - dobj - provides\n",
            "software - software - pobj - in\n",
            "machine learning - learning - conj - software\n",
            "artificial intelligence - intelligence - conj - education\n",
            "AI - AI - appos - intelligence\n",
            "It - It - nsubjpass - offered\n",
            "ETH Zurich - Zurich - pobj - by\n"
          ]
        }
      ],
      "source": [
        "for chunk in mydoc.noun_chunks:\n",
        "    print(chunk.text, \"-\", chunk.root.text, \"-\", chunk.root.dep_, \"-\", chunk.root.head.text)"
      ]
    },
    {
      "cell_type": "markdown",
      "id": "1d407767",
      "metadata": {
        "id": "1d407767"
      },
      "source": [
        "For a visual presentation, we can use the `display` component of `spaCy`.\n",
        "\n",
        "**A technical hint**: if you are running this as a jupyter notebook, calling `display.serve(...)` will keep the cell busy (you will see a `*` on the left side, and you cannot run any other cell). To stop the cell and be able to continue with other parts of the notebook, you can interrupt the cell (with the \"stop\" buttom in the top ribbon)."
      ]
    },
    {
      "cell_type": "code",
      "execution_count": 21,
      "id": "e8730cfd",
      "metadata": {
        "id": "e8730cfd"
      },
      "outputs": [],
      "source": [
        "from spacy import displacy"
      ]
    },
    {
      "cell_type": "code",
      "execution_count": 22,
      "id": "cf08fa90",
      "metadata": {
        "colab": {
          "base_uri": "https://localhost:8080/",
          "height": 760
        },
        "id": "cf08fa90",
        "outputId": "e4b1f450-21d1-4554-a55a-e33f6cdef2bd"
      },
      "outputs": [
        {
          "output_type": "stream",
          "name": "stderr",
          "text": [
            "/usr/local/lib/python3.10/dist-packages/spacy/displacy/__init__.py:106: UserWarning: [W011] It looks like you're calling displacy.serve from within a Jupyter notebook or a similar environment. This likely means you're already running a local web server, so there's no need to make displaCy start another one. Instead, you should be able to replace displacy.serve with displacy.render to show the visualization.\n",
            "  warnings.warn(Warnings.W011)\n"
          ]
        },
        {
          "output_type": "display_data",
          "data": {
            "text/plain": [
              "<IPython.core.display.HTML object>"
            ],
            "text/html": [
              "<span class=\"tex2jax_ignore\"><!DOCTYPE html>\n",
              "<html lang=\"en\">\n",
              "    <head>\n",
              "        <title>displaCy</title>\n",
              "    </head>\n",
              "\n",
              "    <body style=\"font-size: 16px; font-family: -apple-system, BlinkMacSystemFont, 'Segoe UI', Helvetica, Arial, sans-serif, 'Apple Color Emoji', 'Segoe UI Emoji', 'Segoe UI Symbol'; padding: 4rem 2rem; direction: ltr\">\n",
              "<figure style=\"margin-bottom: 6rem\">\n",
              "<svg xmlns=\"http://www.w3.org/2000/svg\" xmlns:xlink=\"http://www.w3.org/1999/xlink\" xml:lang=\"en\" id=\"c5b81226fe6b4063a88e782ab24b3dd2-0\" class=\"displacy\" width=\"3900\" height=\"487.0\" direction=\"ltr\" style=\"max-width: none; height: 487.0px; color: #000000; background: #ffffff; font-family: Arial; direction: ltr\">\n",
              "<text class=\"displacy-token\" fill=\"currentColor\" text-anchor=\"middle\" y=\"397.0\">\n",
              "    <tspan class=\"displacy-word\" fill=\"currentColor\" x=\"50\">The</tspan>\n",
              "    <tspan class=\"displacy-tag\" dy=\"2em\" fill=\"currentColor\" x=\"50\">DET</tspan>\n",
              "</text>\n",
              "\n",
              "<text class=\"displacy-token\" fill=\"currentColor\" text-anchor=\"middle\" y=\"397.0\">\n",
              "    <tspan class=\"displacy-word\" fill=\"currentColor\" x=\"225\">CAS</tspan>\n",
              "    <tspan class=\"displacy-tag\" dy=\"2em\" fill=\"currentColor\" x=\"225\">PROPN</tspan>\n",
              "</text>\n",
              "\n",
              "<text class=\"displacy-token\" fill=\"currentColor\" text-anchor=\"middle\" y=\"397.0\">\n",
              "    <tspan class=\"displacy-word\" fill=\"currentColor\" x=\"400\">AIS</tspan>\n",
              "    <tspan class=\"displacy-tag\" dy=\"2em\" fill=\"currentColor\" x=\"400\">PROPN</tspan>\n",
              "</text>\n",
              "\n",
              "<text class=\"displacy-token\" fill=\"currentColor\" text-anchor=\"middle\" y=\"397.0\">\n",
              "    <tspan class=\"displacy-word\" fill=\"currentColor\" x=\"575\">provides</tspan>\n",
              "    <tspan class=\"displacy-tag\" dy=\"2em\" fill=\"currentColor\" x=\"575\">VERB</tspan>\n",
              "</text>\n",
              "\n",
              "<text class=\"displacy-token\" fill=\"currentColor\" text-anchor=\"middle\" y=\"397.0\">\n",
              "    <tspan class=\"displacy-word\" fill=\"currentColor\" x=\"750\">a</tspan>\n",
              "    <tspan class=\"displacy-tag\" dy=\"2em\" fill=\"currentColor\" x=\"750\">DET</tspan>\n",
              "</text>\n",
              "\n",
              "<text class=\"displacy-token\" fill=\"currentColor\" text-anchor=\"middle\" y=\"397.0\">\n",
              "    <tspan class=\"displacy-word\" fill=\"currentColor\" x=\"925\">targeted</tspan>\n",
              "    <tspan class=\"displacy-tag\" dy=\"2em\" fill=\"currentColor\" x=\"925\">ADJ</tspan>\n",
              "</text>\n",
              "\n",
              "<text class=\"displacy-token\" fill=\"currentColor\" text-anchor=\"middle\" y=\"397.0\">\n",
              "    <tspan class=\"displacy-word\" fill=\"currentColor\" x=\"1100\">education</tspan>\n",
              "    <tspan class=\"displacy-tag\" dy=\"2em\" fill=\"currentColor\" x=\"1100\">NOUN</tspan>\n",
              "</text>\n",
              "\n",
              "<text class=\"displacy-token\" fill=\"currentColor\" text-anchor=\"middle\" y=\"397.0\">\n",
              "    <tspan class=\"displacy-word\" fill=\"currentColor\" x=\"1275\">in</tspan>\n",
              "    <tspan class=\"displacy-tag\" dy=\"2em\" fill=\"currentColor\" x=\"1275\">ADP</tspan>\n",
              "</text>\n",
              "\n",
              "<text class=\"displacy-token\" fill=\"currentColor\" text-anchor=\"middle\" y=\"397.0\">\n",
              "    <tspan class=\"displacy-word\" fill=\"currentColor\" x=\"1450\">software,</tspan>\n",
              "    <tspan class=\"displacy-tag\" dy=\"2em\" fill=\"currentColor\" x=\"1450\">NOUN</tspan>\n",
              "</text>\n",
              "\n",
              "<text class=\"displacy-token\" fill=\"currentColor\" text-anchor=\"middle\" y=\"397.0\">\n",
              "    <tspan class=\"displacy-word\" fill=\"currentColor\" x=\"1625\">machine</tspan>\n",
              "    <tspan class=\"displacy-tag\" dy=\"2em\" fill=\"currentColor\" x=\"1625\">NOUN</tspan>\n",
              "</text>\n",
              "\n",
              "<text class=\"displacy-token\" fill=\"currentColor\" text-anchor=\"middle\" y=\"397.0\">\n",
              "    <tspan class=\"displacy-word\" fill=\"currentColor\" x=\"1800\">learning (</tspan>\n",
              "    <tspan class=\"displacy-tag\" dy=\"2em\" fill=\"currentColor\" x=\"1800\">NOUN</tspan>\n",
              "</text>\n",
              "\n",
              "<text class=\"displacy-token\" fill=\"currentColor\" text-anchor=\"middle\" y=\"397.0\">\n",
              "    <tspan class=\"displacy-word\" fill=\"currentColor\" x=\"1975\">ML)</tspan>\n",
              "    <tspan class=\"displacy-tag\" dy=\"2em\" fill=\"currentColor\" x=\"1975\">PROPN</tspan>\n",
              "</text>\n",
              "\n",
              "<text class=\"displacy-token\" fill=\"currentColor\" text-anchor=\"middle\" y=\"397.0\">\n",
              "    <tspan class=\"displacy-word\" fill=\"currentColor\" x=\"2150\">and</tspan>\n",
              "    <tspan class=\"displacy-tag\" dy=\"2em\" fill=\"currentColor\" x=\"2150\">CCONJ</tspan>\n",
              "</text>\n",
              "\n",
              "<text class=\"displacy-token\" fill=\"currentColor\" text-anchor=\"middle\" y=\"397.0\">\n",
              "    <tspan class=\"displacy-word\" fill=\"currentColor\" x=\"2325\">artificial</tspan>\n",
              "    <tspan class=\"displacy-tag\" dy=\"2em\" fill=\"currentColor\" x=\"2325\">ADJ</tspan>\n",
              "</text>\n",
              "\n",
              "<text class=\"displacy-token\" fill=\"currentColor\" text-anchor=\"middle\" y=\"397.0\">\n",
              "    <tspan class=\"displacy-word\" fill=\"currentColor\" x=\"2500\">intelligence (</tspan>\n",
              "    <tspan class=\"displacy-tag\" dy=\"2em\" fill=\"currentColor\" x=\"2500\">NOUN</tspan>\n",
              "</text>\n",
              "\n",
              "<text class=\"displacy-token\" fill=\"currentColor\" text-anchor=\"middle\" y=\"397.0\">\n",
              "    <tspan class=\"displacy-word\" fill=\"currentColor\" x=\"2675\">AI).</tspan>\n",
              "    <tspan class=\"displacy-tag\" dy=\"2em\" fill=\"currentColor\" x=\"2675\">PROPN</tspan>\n",
              "</text>\n",
              "\n",
              "<text class=\"displacy-token\" fill=\"currentColor\" text-anchor=\"middle\" y=\"397.0\">\n",
              "    <tspan class=\"displacy-word\" fill=\"currentColor\" x=\"2850\">It</tspan>\n",
              "    <tspan class=\"displacy-tag\" dy=\"2em\" fill=\"currentColor\" x=\"2850\">PRON</tspan>\n",
              "</text>\n",
              "\n",
              "<text class=\"displacy-token\" fill=\"currentColor\" text-anchor=\"middle\" y=\"397.0\">\n",
              "    <tspan class=\"displacy-word\" fill=\"currentColor\" x=\"3025\">is</tspan>\n",
              "    <tspan class=\"displacy-tag\" dy=\"2em\" fill=\"currentColor\" x=\"3025\">AUX</tspan>\n",
              "</text>\n",
              "\n",
              "<text class=\"displacy-token\" fill=\"currentColor\" text-anchor=\"middle\" y=\"397.0\">\n",
              "    <tspan class=\"displacy-word\" fill=\"currentColor\" x=\"3200\">offered</tspan>\n",
              "    <tspan class=\"displacy-tag\" dy=\"2em\" fill=\"currentColor\" x=\"3200\">VERB</tspan>\n",
              "</text>\n",
              "\n",
              "<text class=\"displacy-token\" fill=\"currentColor\" text-anchor=\"middle\" y=\"397.0\">\n",
              "    <tspan class=\"displacy-word\" fill=\"currentColor\" x=\"3375\">by</tspan>\n",
              "    <tspan class=\"displacy-tag\" dy=\"2em\" fill=\"currentColor\" x=\"3375\">ADP</tspan>\n",
              "</text>\n",
              "\n",
              "<text class=\"displacy-token\" fill=\"currentColor\" text-anchor=\"middle\" y=\"397.0\">\n",
              "    <tspan class=\"displacy-word\" fill=\"currentColor\" x=\"3550\">ETH</tspan>\n",
              "    <tspan class=\"displacy-tag\" dy=\"2em\" fill=\"currentColor\" x=\"3550\">PROPN</tspan>\n",
              "</text>\n",
              "\n",
              "<text class=\"displacy-token\" fill=\"currentColor\" text-anchor=\"middle\" y=\"397.0\">\n",
              "    <tspan class=\"displacy-word\" fill=\"currentColor\" x=\"3725\">Zurich</tspan>\n",
              "    <tspan class=\"displacy-tag\" dy=\"2em\" fill=\"currentColor\" x=\"3725\">PROPN</tspan>\n",
              "</text>\n",
              "\n",
              "<g class=\"displacy-arrow\">\n",
              "    <path class=\"displacy-arc\" id=\"arrow-c5b81226fe6b4063a88e782ab24b3dd2-0-0\" stroke-width=\"2px\" d=\"M70,352.0 C70,177.0 390.0,177.0 390.0,352.0\" fill=\"none\" stroke=\"currentColor\"/>\n",
              "    <text dy=\"1.25em\" style=\"font-size: 0.8em; letter-spacing: 1px\">\n",
              "        <textPath xlink:href=\"#arrow-c5b81226fe6b4063a88e782ab24b3dd2-0-0\" class=\"displacy-label\" startOffset=\"50%\" side=\"left\" fill=\"currentColor\" text-anchor=\"middle\">det</textPath>\n",
              "    </text>\n",
              "    <path class=\"displacy-arrowhead\" d=\"M70,354.0 L62,342.0 78,342.0\" fill=\"currentColor\"/>\n",
              "</g>\n",
              "\n",
              "<g class=\"displacy-arrow\">\n",
              "    <path class=\"displacy-arc\" id=\"arrow-c5b81226fe6b4063a88e782ab24b3dd2-0-1\" stroke-width=\"2px\" d=\"M245,352.0 C245,264.5 385.0,264.5 385.0,352.0\" fill=\"none\" stroke=\"currentColor\"/>\n",
              "    <text dy=\"1.25em\" style=\"font-size: 0.8em; letter-spacing: 1px\">\n",
              "        <textPath xlink:href=\"#arrow-c5b81226fe6b4063a88e782ab24b3dd2-0-1\" class=\"displacy-label\" startOffset=\"50%\" side=\"left\" fill=\"currentColor\" text-anchor=\"middle\">compound</textPath>\n",
              "    </text>\n",
              "    <path class=\"displacy-arrowhead\" d=\"M245,354.0 L237,342.0 253,342.0\" fill=\"currentColor\"/>\n",
              "</g>\n",
              "\n",
              "<g class=\"displacy-arrow\">\n",
              "    <path class=\"displacy-arc\" id=\"arrow-c5b81226fe6b4063a88e782ab24b3dd2-0-2\" stroke-width=\"2px\" d=\"M420,352.0 C420,264.5 560.0,264.5 560.0,352.0\" fill=\"none\" stroke=\"currentColor\"/>\n",
              "    <text dy=\"1.25em\" style=\"font-size: 0.8em; letter-spacing: 1px\">\n",
              "        <textPath xlink:href=\"#arrow-c5b81226fe6b4063a88e782ab24b3dd2-0-2\" class=\"displacy-label\" startOffset=\"50%\" side=\"left\" fill=\"currentColor\" text-anchor=\"middle\">nsubj</textPath>\n",
              "    </text>\n",
              "    <path class=\"displacy-arrowhead\" d=\"M420,354.0 L412,342.0 428,342.0\" fill=\"currentColor\"/>\n",
              "</g>\n",
              "\n",
              "<g class=\"displacy-arrow\">\n",
              "    <path class=\"displacy-arc\" id=\"arrow-c5b81226fe6b4063a88e782ab24b3dd2-0-3\" stroke-width=\"2px\" d=\"M770,352.0 C770,177.0 1090.0,177.0 1090.0,352.0\" fill=\"none\" stroke=\"currentColor\"/>\n",
              "    <text dy=\"1.25em\" style=\"font-size: 0.8em; letter-spacing: 1px\">\n",
              "        <textPath xlink:href=\"#arrow-c5b81226fe6b4063a88e782ab24b3dd2-0-3\" class=\"displacy-label\" startOffset=\"50%\" side=\"left\" fill=\"currentColor\" text-anchor=\"middle\">det</textPath>\n",
              "    </text>\n",
              "    <path class=\"displacy-arrowhead\" d=\"M770,354.0 L762,342.0 778,342.0\" fill=\"currentColor\"/>\n",
              "</g>\n",
              "\n",
              "<g class=\"displacy-arrow\">\n",
              "    <path class=\"displacy-arc\" id=\"arrow-c5b81226fe6b4063a88e782ab24b3dd2-0-4\" stroke-width=\"2px\" d=\"M945,352.0 C945,264.5 1085.0,264.5 1085.0,352.0\" fill=\"none\" stroke=\"currentColor\"/>\n",
              "    <text dy=\"1.25em\" style=\"font-size: 0.8em; letter-spacing: 1px\">\n",
              "        <textPath xlink:href=\"#arrow-c5b81226fe6b4063a88e782ab24b3dd2-0-4\" class=\"displacy-label\" startOffset=\"50%\" side=\"left\" fill=\"currentColor\" text-anchor=\"middle\">amod</textPath>\n",
              "    </text>\n",
              "    <path class=\"displacy-arrowhead\" d=\"M945,354.0 L937,342.0 953,342.0\" fill=\"currentColor\"/>\n",
              "</g>\n",
              "\n",
              "<g class=\"displacy-arrow\">\n",
              "    <path class=\"displacy-arc\" id=\"arrow-c5b81226fe6b4063a88e782ab24b3dd2-0-5\" stroke-width=\"2px\" d=\"M595,352.0 C595,89.5 1095.0,89.5 1095.0,352.0\" fill=\"none\" stroke=\"currentColor\"/>\n",
              "    <text dy=\"1.25em\" style=\"font-size: 0.8em; letter-spacing: 1px\">\n",
              "        <textPath xlink:href=\"#arrow-c5b81226fe6b4063a88e782ab24b3dd2-0-5\" class=\"displacy-label\" startOffset=\"50%\" side=\"left\" fill=\"currentColor\" text-anchor=\"middle\">dobj</textPath>\n",
              "    </text>\n",
              "    <path class=\"displacy-arrowhead\" d=\"M1095.0,354.0 L1103.0,342.0 1087.0,342.0\" fill=\"currentColor\"/>\n",
              "</g>\n",
              "\n",
              "<g class=\"displacy-arrow\">\n",
              "    <path class=\"displacy-arc\" id=\"arrow-c5b81226fe6b4063a88e782ab24b3dd2-0-6\" stroke-width=\"2px\" d=\"M1120,352.0 C1120,264.5 1260.0,264.5 1260.0,352.0\" fill=\"none\" stroke=\"currentColor\"/>\n",
              "    <text dy=\"1.25em\" style=\"font-size: 0.8em; letter-spacing: 1px\">\n",
              "        <textPath xlink:href=\"#arrow-c5b81226fe6b4063a88e782ab24b3dd2-0-6\" class=\"displacy-label\" startOffset=\"50%\" side=\"left\" fill=\"currentColor\" text-anchor=\"middle\">prep</textPath>\n",
              "    </text>\n",
              "    <path class=\"displacy-arrowhead\" d=\"M1260.0,354.0 L1268.0,342.0 1252.0,342.0\" fill=\"currentColor\"/>\n",
              "</g>\n",
              "\n",
              "<g class=\"displacy-arrow\">\n",
              "    <path class=\"displacy-arc\" id=\"arrow-c5b81226fe6b4063a88e782ab24b3dd2-0-7\" stroke-width=\"2px\" d=\"M1295,352.0 C1295,264.5 1435.0,264.5 1435.0,352.0\" fill=\"none\" stroke=\"currentColor\"/>\n",
              "    <text dy=\"1.25em\" style=\"font-size: 0.8em; letter-spacing: 1px\">\n",
              "        <textPath xlink:href=\"#arrow-c5b81226fe6b4063a88e782ab24b3dd2-0-7\" class=\"displacy-label\" startOffset=\"50%\" side=\"left\" fill=\"currentColor\" text-anchor=\"middle\">pobj</textPath>\n",
              "    </text>\n",
              "    <path class=\"displacy-arrowhead\" d=\"M1435.0,354.0 L1443.0,342.0 1427.0,342.0\" fill=\"currentColor\"/>\n",
              "</g>\n",
              "\n",
              "<g class=\"displacy-arrow\">\n",
              "    <path class=\"displacy-arc\" id=\"arrow-c5b81226fe6b4063a88e782ab24b3dd2-0-8\" stroke-width=\"2px\" d=\"M1645,352.0 C1645,264.5 1785.0,264.5 1785.0,352.0\" fill=\"none\" stroke=\"currentColor\"/>\n",
              "    <text dy=\"1.25em\" style=\"font-size: 0.8em; letter-spacing: 1px\">\n",
              "        <textPath xlink:href=\"#arrow-c5b81226fe6b4063a88e782ab24b3dd2-0-8\" class=\"displacy-label\" startOffset=\"50%\" side=\"left\" fill=\"currentColor\" text-anchor=\"middle\">compound</textPath>\n",
              "    </text>\n",
              "    <path class=\"displacy-arrowhead\" d=\"M1645,354.0 L1637,342.0 1653,342.0\" fill=\"currentColor\"/>\n",
              "</g>\n",
              "\n",
              "<g class=\"displacy-arrow\">\n",
              "    <path class=\"displacy-arc\" id=\"arrow-c5b81226fe6b4063a88e782ab24b3dd2-0-9\" stroke-width=\"2px\" d=\"M1470,352.0 C1470,177.0 1790.0,177.0 1790.0,352.0\" fill=\"none\" stroke=\"currentColor\"/>\n",
              "    <text dy=\"1.25em\" style=\"font-size: 0.8em; letter-spacing: 1px\">\n",
              "        <textPath xlink:href=\"#arrow-c5b81226fe6b4063a88e782ab24b3dd2-0-9\" class=\"displacy-label\" startOffset=\"50%\" side=\"left\" fill=\"currentColor\" text-anchor=\"middle\">conj</textPath>\n",
              "    </text>\n",
              "    <path class=\"displacy-arrowhead\" d=\"M1790.0,354.0 L1798.0,342.0 1782.0,342.0\" fill=\"currentColor\"/>\n",
              "</g>\n",
              "\n",
              "<g class=\"displacy-arrow\">\n",
              "    <path class=\"displacy-arc\" id=\"arrow-c5b81226fe6b4063a88e782ab24b3dd2-0-10\" stroke-width=\"2px\" d=\"M1820,352.0 C1820,264.5 1960.0,264.5 1960.0,352.0\" fill=\"none\" stroke=\"currentColor\"/>\n",
              "    <text dy=\"1.25em\" style=\"font-size: 0.8em; letter-spacing: 1px\">\n",
              "        <textPath xlink:href=\"#arrow-c5b81226fe6b4063a88e782ab24b3dd2-0-10\" class=\"displacy-label\" startOffset=\"50%\" side=\"left\" fill=\"currentColor\" text-anchor=\"middle\">npadvmod</textPath>\n",
              "    </text>\n",
              "    <path class=\"displacy-arrowhead\" d=\"M1960.0,354.0 L1968.0,342.0 1952.0,342.0\" fill=\"currentColor\"/>\n",
              "</g>\n",
              "\n",
              "<g class=\"displacy-arrow\">\n",
              "    <path class=\"displacy-arc\" id=\"arrow-c5b81226fe6b4063a88e782ab24b3dd2-0-11\" stroke-width=\"2px\" d=\"M1120,352.0 C1120,89.5 2145.0,89.5 2145.0,352.0\" fill=\"none\" stroke=\"currentColor\"/>\n",
              "    <text dy=\"1.25em\" style=\"font-size: 0.8em; letter-spacing: 1px\">\n",
              "        <textPath xlink:href=\"#arrow-c5b81226fe6b4063a88e782ab24b3dd2-0-11\" class=\"displacy-label\" startOffset=\"50%\" side=\"left\" fill=\"currentColor\" text-anchor=\"middle\">cc</textPath>\n",
              "    </text>\n",
              "    <path class=\"displacy-arrowhead\" d=\"M2145.0,354.0 L2153.0,342.0 2137.0,342.0\" fill=\"currentColor\"/>\n",
              "</g>\n",
              "\n",
              "<g class=\"displacy-arrow\">\n",
              "    <path class=\"displacy-arc\" id=\"arrow-c5b81226fe6b4063a88e782ab24b3dd2-0-12\" stroke-width=\"2px\" d=\"M2345,352.0 C2345,264.5 2485.0,264.5 2485.0,352.0\" fill=\"none\" stroke=\"currentColor\"/>\n",
              "    <text dy=\"1.25em\" style=\"font-size: 0.8em; letter-spacing: 1px\">\n",
              "        <textPath xlink:href=\"#arrow-c5b81226fe6b4063a88e782ab24b3dd2-0-12\" class=\"displacy-label\" startOffset=\"50%\" side=\"left\" fill=\"currentColor\" text-anchor=\"middle\">amod</textPath>\n",
              "    </text>\n",
              "    <path class=\"displacy-arrowhead\" d=\"M2345,354.0 L2337,342.0 2353,342.0\" fill=\"currentColor\"/>\n",
              "</g>\n",
              "\n",
              "<g class=\"displacy-arrow\">\n",
              "    <path class=\"displacy-arc\" id=\"arrow-c5b81226fe6b4063a88e782ab24b3dd2-0-13\" stroke-width=\"2px\" d=\"M1120,352.0 C1120,2.0 2500.0,2.0 2500.0,352.0\" fill=\"none\" stroke=\"currentColor\"/>\n",
              "    <text dy=\"1.25em\" style=\"font-size: 0.8em; letter-spacing: 1px\">\n",
              "        <textPath xlink:href=\"#arrow-c5b81226fe6b4063a88e782ab24b3dd2-0-13\" class=\"displacy-label\" startOffset=\"50%\" side=\"left\" fill=\"currentColor\" text-anchor=\"middle\">conj</textPath>\n",
              "    </text>\n",
              "    <path class=\"displacy-arrowhead\" d=\"M2500.0,354.0 L2508.0,342.0 2492.0,342.0\" fill=\"currentColor\"/>\n",
              "</g>\n",
              "\n",
              "<g class=\"displacy-arrow\">\n",
              "    <path class=\"displacy-arc\" id=\"arrow-c5b81226fe6b4063a88e782ab24b3dd2-0-14\" stroke-width=\"2px\" d=\"M2520,352.0 C2520,264.5 2660.0,264.5 2660.0,352.0\" fill=\"none\" stroke=\"currentColor\"/>\n",
              "    <text dy=\"1.25em\" style=\"font-size: 0.8em; letter-spacing: 1px\">\n",
              "        <textPath xlink:href=\"#arrow-c5b81226fe6b4063a88e782ab24b3dd2-0-14\" class=\"displacy-label\" startOffset=\"50%\" side=\"left\" fill=\"currentColor\" text-anchor=\"middle\">appos</textPath>\n",
              "    </text>\n",
              "    <path class=\"displacy-arrowhead\" d=\"M2660.0,354.0 L2668.0,342.0 2652.0,342.0\" fill=\"currentColor\"/>\n",
              "</g>\n",
              "\n",
              "<g class=\"displacy-arrow\">\n",
              "    <path class=\"displacy-arc\" id=\"arrow-c5b81226fe6b4063a88e782ab24b3dd2-0-15\" stroke-width=\"2px\" d=\"M2870,352.0 C2870,177.0 3190.0,177.0 3190.0,352.0\" fill=\"none\" stroke=\"currentColor\"/>\n",
              "    <text dy=\"1.25em\" style=\"font-size: 0.8em; letter-spacing: 1px\">\n",
              "        <textPath xlink:href=\"#arrow-c5b81226fe6b4063a88e782ab24b3dd2-0-15\" class=\"displacy-label\" startOffset=\"50%\" side=\"left\" fill=\"currentColor\" text-anchor=\"middle\">nsubjpass</textPath>\n",
              "    </text>\n",
              "    <path class=\"displacy-arrowhead\" d=\"M2870,354.0 L2862,342.0 2878,342.0\" fill=\"currentColor\"/>\n",
              "</g>\n",
              "\n",
              "<g class=\"displacy-arrow\">\n",
              "    <path class=\"displacy-arc\" id=\"arrow-c5b81226fe6b4063a88e782ab24b3dd2-0-16\" stroke-width=\"2px\" d=\"M3045,352.0 C3045,264.5 3185.0,264.5 3185.0,352.0\" fill=\"none\" stroke=\"currentColor\"/>\n",
              "    <text dy=\"1.25em\" style=\"font-size: 0.8em; letter-spacing: 1px\">\n",
              "        <textPath xlink:href=\"#arrow-c5b81226fe6b4063a88e782ab24b3dd2-0-16\" class=\"displacy-label\" startOffset=\"50%\" side=\"left\" fill=\"currentColor\" text-anchor=\"middle\">auxpass</textPath>\n",
              "    </text>\n",
              "    <path class=\"displacy-arrowhead\" d=\"M3045,354.0 L3037,342.0 3053,342.0\" fill=\"currentColor\"/>\n",
              "</g>\n",
              "\n",
              "<g class=\"displacy-arrow\">\n",
              "    <path class=\"displacy-arc\" id=\"arrow-c5b81226fe6b4063a88e782ab24b3dd2-0-17\" stroke-width=\"2px\" d=\"M3220,352.0 C3220,264.5 3360.0,264.5 3360.0,352.0\" fill=\"none\" stroke=\"currentColor\"/>\n",
              "    <text dy=\"1.25em\" style=\"font-size: 0.8em; letter-spacing: 1px\">\n",
              "        <textPath xlink:href=\"#arrow-c5b81226fe6b4063a88e782ab24b3dd2-0-17\" class=\"displacy-label\" startOffset=\"50%\" side=\"left\" fill=\"currentColor\" text-anchor=\"middle\">agent</textPath>\n",
              "    </text>\n",
              "    <path class=\"displacy-arrowhead\" d=\"M3360.0,354.0 L3368.0,342.0 3352.0,342.0\" fill=\"currentColor\"/>\n",
              "</g>\n",
              "\n",
              "<g class=\"displacy-arrow\">\n",
              "    <path class=\"displacy-arc\" id=\"arrow-c5b81226fe6b4063a88e782ab24b3dd2-0-18\" stroke-width=\"2px\" d=\"M3570,352.0 C3570,264.5 3710.0,264.5 3710.0,352.0\" fill=\"none\" stroke=\"currentColor\"/>\n",
              "    <text dy=\"1.25em\" style=\"font-size: 0.8em; letter-spacing: 1px\">\n",
              "        <textPath xlink:href=\"#arrow-c5b81226fe6b4063a88e782ab24b3dd2-0-18\" class=\"displacy-label\" startOffset=\"50%\" side=\"left\" fill=\"currentColor\" text-anchor=\"middle\">compound</textPath>\n",
              "    </text>\n",
              "    <path class=\"displacy-arrowhead\" d=\"M3570,354.0 L3562,342.0 3578,342.0\" fill=\"currentColor\"/>\n",
              "</g>\n",
              "\n",
              "<g class=\"displacy-arrow\">\n",
              "    <path class=\"displacy-arc\" id=\"arrow-c5b81226fe6b4063a88e782ab24b3dd2-0-19\" stroke-width=\"2px\" d=\"M3395,352.0 C3395,177.0 3715.0,177.0 3715.0,352.0\" fill=\"none\" stroke=\"currentColor\"/>\n",
              "    <text dy=\"1.25em\" style=\"font-size: 0.8em; letter-spacing: 1px\">\n",
              "        <textPath xlink:href=\"#arrow-c5b81226fe6b4063a88e782ab24b3dd2-0-19\" class=\"displacy-label\" startOffset=\"50%\" side=\"left\" fill=\"currentColor\" text-anchor=\"middle\">pobj</textPath>\n",
              "    </text>\n",
              "    <path class=\"displacy-arrowhead\" d=\"M3715.0,354.0 L3723.0,342.0 3707.0,342.0\" fill=\"currentColor\"/>\n",
              "</g>\n",
              "</svg>\n",
              "</figure>\n",
              "</body>\n",
              "</html></span>"
            ]
          },
          "metadata": {}
        },
        {
          "output_type": "stream",
          "name": "stdout",
          "text": [
            "\n",
            "Using the 'dep' visualizer\n",
            "Serving on http://0.0.0.0:5000 ...\n",
            "\n",
            "Shutting down server on port 5000.\n"
          ]
        }
      ],
      "source": [
        "# nlp = spacy.load(\"en_core_web_sm\")\n",
        "# doc = nlp(\"Andreas Streich was running late.\")\n",
        "displacy.serve(mydoc, style=\"dep\")"
      ]
    },
    {
      "cell_type": "code",
      "execution_count": 23,
      "id": "9e26e607",
      "metadata": {
        "colab": {
          "base_uri": "https://localhost:8080/",
          "height": 530
        },
        "id": "9e26e607",
        "outputId": "027dd3c4-1829-4870-9ad1-d686b9ff1782"
      },
      "outputs": [
        {
          "output_type": "display_data",
          "data": {
            "text/plain": [
              "<IPython.core.display.HTML object>"
            ],
            "text/html": [
              "<span class=\"tex2jax_ignore\"><!DOCTYPE html>\n",
              "<html lang=\"en\">\n",
              "    <head>\n",
              "        <title>displaCy</title>\n",
              "    </head>\n",
              "\n",
              "    <body style=\"font-size: 16px; font-family: -apple-system, BlinkMacSystemFont, 'Segoe UI', Helvetica, Arial, sans-serif, 'Apple Color Emoji', 'Segoe UI Emoji', 'Segoe UI Symbol'; padding: 4rem 2rem; direction: ltr\">\n",
              "<figure style=\"margin-bottom: 6rem\">\n",
              "<svg xmlns=\"http://www.w3.org/2000/svg\" xmlns:xlink=\"http://www.w3.org/1999/xlink\" xml:lang=\"en\" id=\"58c34851eb9b472bbe8cba3075972a4f-0\" class=\"displacy\" width=\"925\" height=\"312.0\" direction=\"ltr\" style=\"max-width: none; height: 312.0px; color: #000000; background: #ffffff; font-family: Arial; direction: ltr\">\n",
              "<text class=\"displacy-token\" fill=\"currentColor\" text-anchor=\"middle\" y=\"222.0\">\n",
              "    <tspan class=\"displacy-word\" fill=\"currentColor\" x=\"50\">Andreas</tspan>\n",
              "    <tspan class=\"displacy-tag\" dy=\"2em\" fill=\"currentColor\" x=\"50\">PROPN</tspan>\n",
              "</text>\n",
              "\n",
              "<text class=\"displacy-token\" fill=\"currentColor\" text-anchor=\"middle\" y=\"222.0\">\n",
              "    <tspan class=\"displacy-word\" fill=\"currentColor\" x=\"225\">Streich</tspan>\n",
              "    <tspan class=\"displacy-tag\" dy=\"2em\" fill=\"currentColor\" x=\"225\">PROPN</tspan>\n",
              "</text>\n",
              "\n",
              "<text class=\"displacy-token\" fill=\"currentColor\" text-anchor=\"middle\" y=\"222.0\">\n",
              "    <tspan class=\"displacy-word\" fill=\"currentColor\" x=\"400\">was</tspan>\n",
              "    <tspan class=\"displacy-tag\" dy=\"2em\" fill=\"currentColor\" x=\"400\">AUX</tspan>\n",
              "</text>\n",
              "\n",
              "<text class=\"displacy-token\" fill=\"currentColor\" text-anchor=\"middle\" y=\"222.0\">\n",
              "    <tspan class=\"displacy-word\" fill=\"currentColor\" x=\"575\">running</tspan>\n",
              "    <tspan class=\"displacy-tag\" dy=\"2em\" fill=\"currentColor\" x=\"575\">VERB</tspan>\n",
              "</text>\n",
              "\n",
              "<text class=\"displacy-token\" fill=\"currentColor\" text-anchor=\"middle\" y=\"222.0\">\n",
              "    <tspan class=\"displacy-word\" fill=\"currentColor\" x=\"750\">late.</tspan>\n",
              "    <tspan class=\"displacy-tag\" dy=\"2em\" fill=\"currentColor\" x=\"750\">ADV</tspan>\n",
              "</text>\n",
              "\n",
              "<g class=\"displacy-arrow\">\n",
              "    <path class=\"displacy-arc\" id=\"arrow-58c34851eb9b472bbe8cba3075972a4f-0-0\" stroke-width=\"2px\" d=\"M70,177.0 C70,89.5 220.0,89.5 220.0,177.0\" fill=\"none\" stroke=\"currentColor\"/>\n",
              "    <text dy=\"1.25em\" style=\"font-size: 0.8em; letter-spacing: 1px\">\n",
              "        <textPath xlink:href=\"#arrow-58c34851eb9b472bbe8cba3075972a4f-0-0\" class=\"displacy-label\" startOffset=\"50%\" side=\"left\" fill=\"currentColor\" text-anchor=\"middle\">compound</textPath>\n",
              "    </text>\n",
              "    <path class=\"displacy-arrowhead\" d=\"M70,179.0 L62,167.0 78,167.0\" fill=\"currentColor\"/>\n",
              "</g>\n",
              "\n",
              "<g class=\"displacy-arrow\">\n",
              "    <path class=\"displacy-arc\" id=\"arrow-58c34851eb9b472bbe8cba3075972a4f-0-1\" stroke-width=\"2px\" d=\"M245,177.0 C245,2.0 575.0,2.0 575.0,177.0\" fill=\"none\" stroke=\"currentColor\"/>\n",
              "    <text dy=\"1.25em\" style=\"font-size: 0.8em; letter-spacing: 1px\">\n",
              "        <textPath xlink:href=\"#arrow-58c34851eb9b472bbe8cba3075972a4f-0-1\" class=\"displacy-label\" startOffset=\"50%\" side=\"left\" fill=\"currentColor\" text-anchor=\"middle\">nsubj</textPath>\n",
              "    </text>\n",
              "    <path class=\"displacy-arrowhead\" d=\"M245,179.0 L237,167.0 253,167.0\" fill=\"currentColor\"/>\n",
              "</g>\n",
              "\n",
              "<g class=\"displacy-arrow\">\n",
              "    <path class=\"displacy-arc\" id=\"arrow-58c34851eb9b472bbe8cba3075972a4f-0-2\" stroke-width=\"2px\" d=\"M420,177.0 C420,89.5 570.0,89.5 570.0,177.0\" fill=\"none\" stroke=\"currentColor\"/>\n",
              "    <text dy=\"1.25em\" style=\"font-size: 0.8em; letter-spacing: 1px\">\n",
              "        <textPath xlink:href=\"#arrow-58c34851eb9b472bbe8cba3075972a4f-0-2\" class=\"displacy-label\" startOffset=\"50%\" side=\"left\" fill=\"currentColor\" text-anchor=\"middle\">aux</textPath>\n",
              "    </text>\n",
              "    <path class=\"displacy-arrowhead\" d=\"M420,179.0 L412,167.0 428,167.0\" fill=\"currentColor\"/>\n",
              "</g>\n",
              "\n",
              "<g class=\"displacy-arrow\">\n",
              "    <path class=\"displacy-arc\" id=\"arrow-58c34851eb9b472bbe8cba3075972a4f-0-3\" stroke-width=\"2px\" d=\"M595,177.0 C595,89.5 745.0,89.5 745.0,177.0\" fill=\"none\" stroke=\"currentColor\"/>\n",
              "    <text dy=\"1.25em\" style=\"font-size: 0.8em; letter-spacing: 1px\">\n",
              "        <textPath xlink:href=\"#arrow-58c34851eb9b472bbe8cba3075972a4f-0-3\" class=\"displacy-label\" startOffset=\"50%\" side=\"left\" fill=\"currentColor\" text-anchor=\"middle\">advmod</textPath>\n",
              "    </text>\n",
              "    <path class=\"displacy-arrowhead\" d=\"M745.0,179.0 L753.0,167.0 737.0,167.0\" fill=\"currentColor\"/>\n",
              "</g>\n",
              "</svg>\n",
              "</figure>\n",
              "</body>\n",
              "</html></span>"
            ]
          },
          "metadata": {}
        },
        {
          "output_type": "stream",
          "name": "stdout",
          "text": [
            "\n",
            "Using the 'dep' visualizer\n",
            "Serving on http://0.0.0.0:5000 ...\n",
            "\n",
            "Shutting down server on port 5000.\n"
          ]
        }
      ],
      "source": [
        "mydoc = nlp(\"Andreas Streich was running late.\")\n",
        "displacy.serve(mydoc, style=\"dep\")"
      ]
    },
    {
      "cell_type": "code",
      "execution_count": null,
      "id": "9be7933f",
      "metadata": {
        "id": "9be7933f"
      },
      "outputs": [],
      "source": []
    }
  ],
  "metadata": {
    "kernelspec": {
      "display_name": "Python 3 (ipykernel)",
      "language": "python",
      "name": "python3"
    },
    "language_info": {
      "codemirror_mode": {
        "name": "ipython",
        "version": 3
      },
      "file_extension": ".py",
      "mimetype": "text/x-python",
      "name": "python",
      "nbconvert_exporter": "python",
      "pygments_lexer": "ipython3",
      "version": "3.10.13"
    },
    "colab": {
      "provenance": [],
      "include_colab_link": true
    }
  },
  "nbformat": 4,
  "nbformat_minor": 5
}
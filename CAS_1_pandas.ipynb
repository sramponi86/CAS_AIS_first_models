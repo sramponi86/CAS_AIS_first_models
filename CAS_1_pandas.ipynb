{
 "cells": [
  {
   "cell_type": "markdown",
   "metadata": {
    "id": "cwvxatU28z7h"
   },
   "source": [
    "# Pandas Basic Operations\n",
    "\n",
    "In this notebook, we'll be working with a simple dataset on fictional book sales to practice some basic pandas operations. Let's get started!"
   ]
  },
  {
   "cell_type": "markdown",
   "metadata": {
    "id": "NtyetD7xdsCM"
   },
   "source": [
    "## Step 1: Setup\n",
    "\n",
    "*You may ignore the code in this cell. You must still execute it.*\n",
    "\n",
    "The cell below creates the dataset."
   ]
  },
  {
   "cell_type": "code",
   "execution_count": 1,
   "metadata": {
    "id": "Rz7G7Ykj8wIP"
   },
   "outputs": [],
   "source": [
    "# Sample data for demonstration.\n",
    "\n",
    "data = \"\"\"Title,Author,Genre,Price,Sold\n",
    "The Great Tale,John Doe,Fiction,15,1500\n",
    "Mystery of the Night,Jane Smith,Mystery,20,890\n",
    "Learning Pandas,Alice Johnson,Education,25,340\n",
    "Journey to the Stars,Bob Brown,Sci-fi,18,2200\n",
    "History Repeats,Peter G.,History,22,500\n",
    "\"\"\"\n",
    "\n",
    "with open(\"book_sales.csv\", \"w\") as file:\n",
    "    file.write(data)"
   ]
  },
  {
   "cell_type": "markdown",
   "metadata": {
    "id": "hIFYdih684bH"
   },
   "source": [
    "## Step 2: Reading the Dataset\n",
    "\n",
    "We will start by loading our dataset. This dataset contains the sales data of fictional books.\n"
   ]
  },
  {
   "cell_type": "code",
   "execution_count": 2,
   "metadata": {
    "id": "qTifLtOy84IG"
   },
   "outputs": [
    {
     "data": {
      "text/html": [
       "<div>\n",
       "<style scoped>\n",
       "    .dataframe tbody tr th:only-of-type {\n",
       "        vertical-align: middle;\n",
       "    }\n",
       "\n",
       "    .dataframe tbody tr th {\n",
       "        vertical-align: top;\n",
       "    }\n",
       "\n",
       "    .dataframe thead th {\n",
       "        text-align: right;\n",
       "    }\n",
       "</style>\n",
       "<table border=\"1\" class=\"dataframe\">\n",
       "  <thead>\n",
       "    <tr style=\"text-align: right;\">\n",
       "      <th></th>\n",
       "      <th>Title</th>\n",
       "      <th>Author</th>\n",
       "      <th>Genre</th>\n",
       "      <th>Price</th>\n",
       "      <th>Sold</th>\n",
       "    </tr>\n",
       "  </thead>\n",
       "  <tbody>\n",
       "    <tr>\n",
       "      <th>0</th>\n",
       "      <td>The Great Tale</td>\n",
       "      <td>John Doe</td>\n",
       "      <td>Fiction</td>\n",
       "      <td>15</td>\n",
       "      <td>1500</td>\n",
       "    </tr>\n",
       "    <tr>\n",
       "      <th>1</th>\n",
       "      <td>Mystery of the Night</td>\n",
       "      <td>Jane Smith</td>\n",
       "      <td>Mystery</td>\n",
       "      <td>20</td>\n",
       "      <td>890</td>\n",
       "    </tr>\n",
       "    <tr>\n",
       "      <th>2</th>\n",
       "      <td>Learning Pandas</td>\n",
       "      <td>Alice Johnson</td>\n",
       "      <td>Education</td>\n",
       "      <td>25</td>\n",
       "      <td>340</td>\n",
       "    </tr>\n",
       "    <tr>\n",
       "      <th>3</th>\n",
       "      <td>Journey to the Stars</td>\n",
       "      <td>Bob Brown</td>\n",
       "      <td>Sci-fi</td>\n",
       "      <td>18</td>\n",
       "      <td>2200</td>\n",
       "    </tr>\n",
       "    <tr>\n",
       "      <th>4</th>\n",
       "      <td>History Repeats</td>\n",
       "      <td>Peter G.</td>\n",
       "      <td>History</td>\n",
       "      <td>22</td>\n",
       "      <td>500</td>\n",
       "    </tr>\n",
       "  </tbody>\n",
       "</table>\n",
       "</div>"
      ],
      "text/plain": [
       "                  Title         Author      Genre  Price  Sold\n",
       "0        The Great Tale       John Doe    Fiction     15  1500\n",
       "1  Mystery of the Night     Jane Smith    Mystery     20   890\n",
       "2       Learning Pandas  Alice Johnson  Education     25   340\n",
       "3  Journey to the Stars      Bob Brown     Sci-fi     18  2200\n",
       "4       History Repeats       Peter G.    History     22   500"
      ]
     },
     "execution_count": 2,
     "metadata": {},
     "output_type": "execute_result"
    }
   ],
   "source": [
    "import pandas\n",
    "\n",
    "df = pandas.read_csv(\"book_sales.csv\")\n",
    "\n",
    "df.head()"
   ]
  },
  {
   "cell_type": "markdown",
   "metadata": {
    "id": "OXZO45nvekgs"
   },
   "source": [
    "Alternatively, you can also read `.xlsx` files using the command `pd.read_excel('excel_file.xlsx', sheet_name='sheet_name')`"
   ]
  },
  {
   "cell_type": "markdown",
   "metadata": {
    "id": "Ku16Oc5FV1R5"
   },
   "source": [
    "Writing `pandas.read_csv` can be impractical. An alternative is to create an abbreviation for the pandas library. You can do this with `import pandas as pd`. Try now to load the dataset using this abbreviation."
   ]
  },
  {
   "cell_type": "code",
   "execution_count": 3,
   "metadata": {
    "id": "o2DkrEeaV8ZE"
   },
   "outputs": [],
   "source": [
    "import pandas as pd\n",
    "\n"
   ]
  },
  {
   "cell_type": "markdown",
   "metadata": {
    "id": "z_B5kDvP9Mqa"
   },
   "source": [
    "## Step 3: Describing the Data\n",
    "\n",
    "Let's get a quick description of our dataset using the `describe()` function.\n"
   ]
  },
  {
   "cell_type": "code",
   "execution_count": 4,
   "metadata": {
    "id": "6SCSGvw_9Mck"
   },
   "outputs": [
    {
     "data": {
      "text/html": [
       "<div>\n",
       "<style scoped>\n",
       "    .dataframe tbody tr th:only-of-type {\n",
       "        vertical-align: middle;\n",
       "    }\n",
       "\n",
       "    .dataframe tbody tr th {\n",
       "        vertical-align: top;\n",
       "    }\n",
       "\n",
       "    .dataframe thead th {\n",
       "        text-align: right;\n",
       "    }\n",
       "</style>\n",
       "<table border=\"1\" class=\"dataframe\">\n",
       "  <thead>\n",
       "    <tr style=\"text-align: right;\">\n",
       "      <th></th>\n",
       "      <th>Price</th>\n",
       "      <th>Sold</th>\n",
       "    </tr>\n",
       "  </thead>\n",
       "  <tbody>\n",
       "    <tr>\n",
       "      <th>count</th>\n",
       "      <td>5.000000</td>\n",
       "      <td>5.000000</td>\n",
       "    </tr>\n",
       "    <tr>\n",
       "      <th>mean</th>\n",
       "      <td>20.000000</td>\n",
       "      <td>1086.000000</td>\n",
       "    </tr>\n",
       "    <tr>\n",
       "      <th>std</th>\n",
       "      <td>3.807887</td>\n",
       "      <td>766.602896</td>\n",
       "    </tr>\n",
       "    <tr>\n",
       "      <th>min</th>\n",
       "      <td>15.000000</td>\n",
       "      <td>340.000000</td>\n",
       "    </tr>\n",
       "    <tr>\n",
       "      <th>25%</th>\n",
       "      <td>18.000000</td>\n",
       "      <td>500.000000</td>\n",
       "    </tr>\n",
       "    <tr>\n",
       "      <th>50%</th>\n",
       "      <td>20.000000</td>\n",
       "      <td>890.000000</td>\n",
       "    </tr>\n",
       "    <tr>\n",
       "      <th>75%</th>\n",
       "      <td>22.000000</td>\n",
       "      <td>1500.000000</td>\n",
       "    </tr>\n",
       "    <tr>\n",
       "      <th>max</th>\n",
       "      <td>25.000000</td>\n",
       "      <td>2200.000000</td>\n",
       "    </tr>\n",
       "  </tbody>\n",
       "</table>\n",
       "</div>"
      ],
      "text/plain": [
       "           Price         Sold\n",
       "count   5.000000     5.000000\n",
       "mean   20.000000  1086.000000\n",
       "std     3.807887   766.602896\n",
       "min    15.000000   340.000000\n",
       "25%    18.000000   500.000000\n",
       "50%    20.000000   890.000000\n",
       "75%    22.000000  1500.000000\n",
       "max    25.000000  2200.000000"
      ]
     },
     "execution_count": 4,
     "metadata": {},
     "output_type": "execute_result"
    }
   ],
   "source": [
    "df.describe()"
   ]
  },
  {
   "cell_type": "markdown",
   "metadata": {
    "id": "v4KIM8ls9R-s"
   },
   "source": [
    "## Step 4: Exploring Columns and Rows\n",
    "\n",
    "We can easily see the columns in our dataframe and extract or remove them.\n"
   ]
  },
  {
   "cell_type": "code",
   "execution_count": 5,
   "metadata": {
    "id": "0wPWu74n9Isb"
   },
   "outputs": [
    {
     "data": {
      "text/plain": [
       "Index(['Title', 'Author', 'Genre', 'Price', 'Sold'], dtype='object')"
      ]
     },
     "execution_count": 5,
     "metadata": {},
     "output_type": "execute_result"
    }
   ],
   "source": [
    "df.columns"
   ]
  },
  {
   "cell_type": "code",
   "execution_count": 6,
   "metadata": {
    "id": "sdnnzRNQ9U9j"
   },
   "outputs": [
    {
     "data": {
      "text/plain": [
       "0    15\n",
       "1    20\n",
       "2    25\n",
       "3    18\n",
       "4    22\n",
       "Name: Price, dtype: int64"
      ]
     },
     "execution_count": 6,
     "metadata": {},
     "output_type": "execute_result"
    }
   ],
   "source": [
    "prices = df[\"Price\"]\n",
    "prices"
   ]
  },
  {
   "cell_type": "markdown",
   "metadata": {
    "id": "Eo49UhEAjuAc"
   },
   "source": [
    "You can also select multiple columns from the dataframe. For example, the following command selects the columns `Title` and `Author`."
   ]
  },
  {
   "cell_type": "code",
   "execution_count": 7,
   "metadata": {
    "id": "Wwycvlzkj0_j"
   },
   "outputs": [
    {
     "data": {
      "text/html": [
       "<div>\n",
       "<style scoped>\n",
       "    .dataframe tbody tr th:only-of-type {\n",
       "        vertical-align: middle;\n",
       "    }\n",
       "\n",
       "    .dataframe tbody tr th {\n",
       "        vertical-align: top;\n",
       "    }\n",
       "\n",
       "    .dataframe thead th {\n",
       "        text-align: right;\n",
       "    }\n",
       "</style>\n",
       "<table border=\"1\" class=\"dataframe\">\n",
       "  <thead>\n",
       "    <tr style=\"text-align: right;\">\n",
       "      <th></th>\n",
       "      <th>Title</th>\n",
       "      <th>Author</th>\n",
       "    </tr>\n",
       "  </thead>\n",
       "  <tbody>\n",
       "    <tr>\n",
       "      <th>0</th>\n",
       "      <td>The Great Tale</td>\n",
       "      <td>John Doe</td>\n",
       "    </tr>\n",
       "    <tr>\n",
       "      <th>1</th>\n",
       "      <td>Mystery of the Night</td>\n",
       "      <td>Jane Smith</td>\n",
       "    </tr>\n",
       "    <tr>\n",
       "      <th>2</th>\n",
       "      <td>Learning Pandas</td>\n",
       "      <td>Alice Johnson</td>\n",
       "    </tr>\n",
       "    <tr>\n",
       "      <th>3</th>\n",
       "      <td>Journey to the Stars</td>\n",
       "      <td>Bob Brown</td>\n",
       "    </tr>\n",
       "    <tr>\n",
       "      <th>4</th>\n",
       "      <td>History Repeats</td>\n",
       "      <td>Peter G.</td>\n",
       "    </tr>\n",
       "  </tbody>\n",
       "</table>\n",
       "</div>"
      ],
      "text/plain": [
       "                  Title         Author\n",
       "0        The Great Tale       John Doe\n",
       "1  Mystery of the Night     Jane Smith\n",
       "2       Learning Pandas  Alice Johnson\n",
       "3  Journey to the Stars      Bob Brown\n",
       "4       History Repeats       Peter G."
      ]
     },
     "execution_count": 7,
     "metadata": {},
     "output_type": "execute_result"
    }
   ],
   "source": [
    "df[[\"Title\", \"Author\"]]"
   ]
  },
  {
   "cell_type": "code",
   "execution_count": 8,
   "metadata": {
    "id": "_6AiMUUU9fXj"
   },
   "outputs": [
    {
     "data": {
      "text/html": [
       "<div>\n",
       "<style scoped>\n",
       "    .dataframe tbody tr th:only-of-type {\n",
       "        vertical-align: middle;\n",
       "    }\n",
       "\n",
       "    .dataframe tbody tr th {\n",
       "        vertical-align: top;\n",
       "    }\n",
       "\n",
       "    .dataframe thead th {\n",
       "        text-align: right;\n",
       "    }\n",
       "</style>\n",
       "<table border=\"1\" class=\"dataframe\">\n",
       "  <thead>\n",
       "    <tr style=\"text-align: right;\">\n",
       "      <th></th>\n",
       "      <th>Title</th>\n",
       "      <th>Author</th>\n",
       "      <th>Genre</th>\n",
       "      <th>Price</th>\n",
       "    </tr>\n",
       "  </thead>\n",
       "  <tbody>\n",
       "    <tr>\n",
       "      <th>0</th>\n",
       "      <td>The Great Tale</td>\n",
       "      <td>John Doe</td>\n",
       "      <td>Fiction</td>\n",
       "      <td>15</td>\n",
       "    </tr>\n",
       "    <tr>\n",
       "      <th>1</th>\n",
       "      <td>Mystery of the Night</td>\n",
       "      <td>Jane Smith</td>\n",
       "      <td>Mystery</td>\n",
       "      <td>20</td>\n",
       "    </tr>\n",
       "    <tr>\n",
       "      <th>2</th>\n",
       "      <td>Learning Pandas</td>\n",
       "      <td>Alice Johnson</td>\n",
       "      <td>Education</td>\n",
       "      <td>25</td>\n",
       "    </tr>\n",
       "    <tr>\n",
       "      <th>3</th>\n",
       "      <td>Journey to the Stars</td>\n",
       "      <td>Bob Brown</td>\n",
       "      <td>Sci-fi</td>\n",
       "      <td>18</td>\n",
       "    </tr>\n",
       "    <tr>\n",
       "      <th>4</th>\n",
       "      <td>History Repeats</td>\n",
       "      <td>Peter G.</td>\n",
       "      <td>History</td>\n",
       "      <td>22</td>\n",
       "    </tr>\n",
       "  </tbody>\n",
       "</table>\n",
       "</div>"
      ],
      "text/plain": [
       "                  Title         Author      Genre  Price\n",
       "0        The Great Tale       John Doe    Fiction     15\n",
       "1  Mystery of the Night     Jane Smith    Mystery     20\n",
       "2       Learning Pandas  Alice Johnson  Education     25\n",
       "3  Journey to the Stars      Bob Brown     Sci-fi     18\n",
       "4       History Repeats       Peter G.    History     22"
      ]
     },
     "execution_count": 8,
     "metadata": {},
     "output_type": "execute_result"
    }
   ],
   "source": [
    "df_without_sold = df.drop(columns=[\"Sold\"])\n",
    "df_without_sold"
   ]
  },
  {
   "cell_type": "markdown",
   "metadata": {
    "id": "o_CsHCffjCIV"
   },
   "source": [
    "We can also retrieve rows from a dataset. The following command selects the first 3 rows of the dataset."
   ]
  },
  {
   "cell_type": "code",
   "execution_count": 9,
   "metadata": {
    "id": "y6LNsskzjPj4"
   },
   "outputs": [
    {
     "data": {
      "text/html": [
       "<div>\n",
       "<style scoped>\n",
       "    .dataframe tbody tr th:only-of-type {\n",
       "        vertical-align: middle;\n",
       "    }\n",
       "\n",
       "    .dataframe tbody tr th {\n",
       "        vertical-align: top;\n",
       "    }\n",
       "\n",
       "    .dataframe thead th {\n",
       "        text-align: right;\n",
       "    }\n",
       "</style>\n",
       "<table border=\"1\" class=\"dataframe\">\n",
       "  <thead>\n",
       "    <tr style=\"text-align: right;\">\n",
       "      <th></th>\n",
       "      <th>Title</th>\n",
       "      <th>Author</th>\n",
       "      <th>Genre</th>\n",
       "      <th>Price</th>\n",
       "      <th>Sold</th>\n",
       "    </tr>\n",
       "  </thead>\n",
       "  <tbody>\n",
       "    <tr>\n",
       "      <th>0</th>\n",
       "      <td>The Great Tale</td>\n",
       "      <td>John Doe</td>\n",
       "      <td>Fiction</td>\n",
       "      <td>15</td>\n",
       "      <td>1500</td>\n",
       "    </tr>\n",
       "    <tr>\n",
       "      <th>1</th>\n",
       "      <td>Mystery of the Night</td>\n",
       "      <td>Jane Smith</td>\n",
       "      <td>Mystery</td>\n",
       "      <td>20</td>\n",
       "      <td>890</td>\n",
       "    </tr>\n",
       "    <tr>\n",
       "      <th>2</th>\n",
       "      <td>Learning Pandas</td>\n",
       "      <td>Alice Johnson</td>\n",
       "      <td>Education</td>\n",
       "      <td>25</td>\n",
       "      <td>340</td>\n",
       "    </tr>\n",
       "  </tbody>\n",
       "</table>\n",
       "</div>"
      ],
      "text/plain": [
       "                  Title         Author      Genre  Price  Sold\n",
       "0        The Great Tale       John Doe    Fiction     15  1500\n",
       "1  Mystery of the Night     Jane Smith    Mystery     20   890\n",
       "2       Learning Pandas  Alice Johnson  Education     25   340"
      ]
     },
     "execution_count": 9,
     "metadata": {},
     "output_type": "execute_result"
    }
   ],
   "source": [
    "df[0:3]"
   ]
  },
  {
   "cell_type": "markdown",
   "metadata": {
    "id": "UaTJgXtEjVMw"
   },
   "source": [
    "Note that rows are numbered as 0, 1, 2, 3, ... In general, the command `df[a:b]`, for `a`, `b` natural numbers, selects columns `a`, `a+1`, `a+2`, `...`, `b-1` of the dataset. How can you select columns 2 and 3 from your dataset?"
   ]
  },
  {
   "cell_type": "code",
   "execution_count": 12,
   "metadata": {
    "id": "o9iIJcijjpXT"
   },
   "outputs": [
    {
     "data": {
      "text/html": [
       "<div>\n",
       "<style scoped>\n",
       "    .dataframe tbody tr th:only-of-type {\n",
       "        vertical-align: middle;\n",
       "    }\n",
       "\n",
       "    .dataframe tbody tr th {\n",
       "        vertical-align: top;\n",
       "    }\n",
       "\n",
       "    .dataframe thead th {\n",
       "        text-align: right;\n",
       "    }\n",
       "</style>\n",
       "<table border=\"1\" class=\"dataframe\">\n",
       "  <thead>\n",
       "    <tr style=\"text-align: right;\">\n",
       "      <th></th>\n",
       "      <th>Title</th>\n",
       "      <th>Author</th>\n",
       "      <th>Genre</th>\n",
       "      <th>Price</th>\n",
       "      <th>Sold</th>\n",
       "    </tr>\n",
       "  </thead>\n",
       "  <tbody>\n",
       "    <tr>\n",
       "      <th>2</th>\n",
       "      <td>Learning Pandas</td>\n",
       "      <td>Alice Johnson</td>\n",
       "      <td>Education</td>\n",
       "      <td>25</td>\n",
       "      <td>340</td>\n",
       "    </tr>\n",
       "    <tr>\n",
       "      <th>3</th>\n",
       "      <td>Journey to the Stars</td>\n",
       "      <td>Bob Brown</td>\n",
       "      <td>Sci-fi</td>\n",
       "      <td>18</td>\n",
       "      <td>2200</td>\n",
       "    </tr>\n",
       "  </tbody>\n",
       "</table>\n",
       "</div>"
      ],
      "text/plain": [
       "                  Title         Author      Genre  Price  Sold\n",
       "2       Learning Pandas  Alice Johnson  Education     25   340\n",
       "3  Journey to the Stars      Bob Brown     Sci-fi     18  2200"
      ]
     },
     "execution_count": 12,
     "metadata": {},
     "output_type": "execute_result"
    }
   ],
   "source": [
    "df[2:4]"
   ]
  },
  {
   "cell_type": "markdown",
   "metadata": {
    "id": "tAi3QUP79nmz"
   },
   "source": [
    "## Step 5: Sorting Rows in a DataFrame\n",
    "\n",
    "We can sort the rows in our dataframe based on any feature."
   ]
  },
  {
   "cell_type": "code",
   "execution_count": 13,
   "metadata": {
    "id": "4i3UpHTE9jNK"
   },
   "outputs": [
    {
     "data": {
      "text/html": [
       "<div>\n",
       "<style scoped>\n",
       "    .dataframe tbody tr th:only-of-type {\n",
       "        vertical-align: middle;\n",
       "    }\n",
       "\n",
       "    .dataframe tbody tr th {\n",
       "        vertical-align: top;\n",
       "    }\n",
       "\n",
       "    .dataframe thead th {\n",
       "        text-align: right;\n",
       "    }\n",
       "</style>\n",
       "<table border=\"1\" class=\"dataframe\">\n",
       "  <thead>\n",
       "    <tr style=\"text-align: right;\">\n",
       "      <th></th>\n",
       "      <th>Title</th>\n",
       "      <th>Author</th>\n",
       "      <th>Genre</th>\n",
       "      <th>Price</th>\n",
       "      <th>Sold</th>\n",
       "    </tr>\n",
       "  </thead>\n",
       "  <tbody>\n",
       "    <tr>\n",
       "      <th>0</th>\n",
       "      <td>The Great Tale</td>\n",
       "      <td>John Doe</td>\n",
       "      <td>Fiction</td>\n",
       "      <td>15</td>\n",
       "      <td>1500</td>\n",
       "    </tr>\n",
       "    <tr>\n",
       "      <th>3</th>\n",
       "      <td>Journey to the Stars</td>\n",
       "      <td>Bob Brown</td>\n",
       "      <td>Sci-fi</td>\n",
       "      <td>18</td>\n",
       "      <td>2200</td>\n",
       "    </tr>\n",
       "    <tr>\n",
       "      <th>1</th>\n",
       "      <td>Mystery of the Night</td>\n",
       "      <td>Jane Smith</td>\n",
       "      <td>Mystery</td>\n",
       "      <td>20</td>\n",
       "      <td>890</td>\n",
       "    </tr>\n",
       "    <tr>\n",
       "      <th>4</th>\n",
       "      <td>History Repeats</td>\n",
       "      <td>Peter G.</td>\n",
       "      <td>History</td>\n",
       "      <td>22</td>\n",
       "      <td>500</td>\n",
       "    </tr>\n",
       "    <tr>\n",
       "      <th>2</th>\n",
       "      <td>Learning Pandas</td>\n",
       "      <td>Alice Johnson</td>\n",
       "      <td>Education</td>\n",
       "      <td>25</td>\n",
       "      <td>340</td>\n",
       "    </tr>\n",
       "  </tbody>\n",
       "</table>\n",
       "</div>"
      ],
      "text/plain": [
       "                  Title         Author      Genre  Price  Sold\n",
       "0        The Great Tale       John Doe    Fiction     15  1500\n",
       "3  Journey to the Stars      Bob Brown     Sci-fi     18  2200\n",
       "1  Mystery of the Night     Jane Smith    Mystery     20   890\n",
       "4       History Repeats       Peter G.    History     22   500\n",
       "2       Learning Pandas  Alice Johnson  Education     25   340"
      ]
     },
     "execution_count": 13,
     "metadata": {},
     "output_type": "execute_result"
    }
   ],
   "source": [
    "df_sorted_by_price = df.sort_values(by=\"Price\")\n",
    "df_sorted_by_price"
   ]
  },
  {
   "cell_type": "markdown",
   "metadata": {
    "id": "UhFj8o5I9uYH"
   },
   "source": [
    "## Step 6: Compute revenue"
   ]
  },
  {
   "cell_type": "code",
   "execution_count": 14,
   "metadata": {
    "id": "n92AqGNW9rfx"
   },
   "outputs": [
    {
     "data": {
      "text/html": [
       "<div>\n",
       "<style scoped>\n",
       "    .dataframe tbody tr th:only-of-type {\n",
       "        vertical-align: middle;\n",
       "    }\n",
       "\n",
       "    .dataframe tbody tr th {\n",
       "        vertical-align: top;\n",
       "    }\n",
       "\n",
       "    .dataframe thead th {\n",
       "        text-align: right;\n",
       "    }\n",
       "</style>\n",
       "<table border=\"1\" class=\"dataframe\">\n",
       "  <thead>\n",
       "    <tr style=\"text-align: right;\">\n",
       "      <th></th>\n",
       "      <th>Title</th>\n",
       "      <th>Author</th>\n",
       "      <th>Genre</th>\n",
       "      <th>Price</th>\n",
       "      <th>Sold</th>\n",
       "      <th>Revenue</th>\n",
       "    </tr>\n",
       "  </thead>\n",
       "  <tbody>\n",
       "    <tr>\n",
       "      <th>0</th>\n",
       "      <td>The Great Tale</td>\n",
       "      <td>John Doe</td>\n",
       "      <td>Fiction</td>\n",
       "      <td>15</td>\n",
       "      <td>1500</td>\n",
       "      <td>22500</td>\n",
       "    </tr>\n",
       "    <tr>\n",
       "      <th>1</th>\n",
       "      <td>Mystery of the Night</td>\n",
       "      <td>Jane Smith</td>\n",
       "      <td>Mystery</td>\n",
       "      <td>20</td>\n",
       "      <td>890</td>\n",
       "      <td>17800</td>\n",
       "    </tr>\n",
       "    <tr>\n",
       "      <th>2</th>\n",
       "      <td>Learning Pandas</td>\n",
       "      <td>Alice Johnson</td>\n",
       "      <td>Education</td>\n",
       "      <td>25</td>\n",
       "      <td>340</td>\n",
       "      <td>8500</td>\n",
       "    </tr>\n",
       "    <tr>\n",
       "      <th>3</th>\n",
       "      <td>Journey to the Stars</td>\n",
       "      <td>Bob Brown</td>\n",
       "      <td>Sci-fi</td>\n",
       "      <td>18</td>\n",
       "      <td>2200</td>\n",
       "      <td>39600</td>\n",
       "    </tr>\n",
       "    <tr>\n",
       "      <th>4</th>\n",
       "      <td>History Repeats</td>\n",
       "      <td>Peter G.</td>\n",
       "      <td>History</td>\n",
       "      <td>22</td>\n",
       "      <td>500</td>\n",
       "      <td>11000</td>\n",
       "    </tr>\n",
       "  </tbody>\n",
       "</table>\n",
       "</div>"
      ],
      "text/plain": [
       "                  Title         Author      Genre  Price  Sold  Revenue\n",
       "0        The Great Tale       John Doe    Fiction     15  1500    22500\n",
       "1  Mystery of the Night     Jane Smith    Mystery     20   890    17800\n",
       "2       Learning Pandas  Alice Johnson  Education     25   340     8500\n",
       "3  Journey to the Stars      Bob Brown     Sci-fi     18  2200    39600\n",
       "4       History Repeats       Peter G.    History     22   500    11000"
      ]
     },
     "execution_count": 14,
     "metadata": {},
     "output_type": "execute_result"
    }
   ],
   "source": [
    "df[\"Revenue\"] = df[\"Price\"] * df[\"Sold\"]\n",
    "df"
   ]
  },
  {
   "cell_type": "markdown",
   "metadata": {
    "id": "gvq9Gigcv7la"
   },
   "source": [
    "## Step 7: Top 3 bestsellers"
   ]
  },
  {
   "cell_type": "markdown",
   "metadata": {
    "id": "6UOLGcHVj5YL"
   },
   "source": [
    "Now you can apply what you have learned in this notebook. Compute the top 3 bestsellers."
   ]
  },
  {
   "cell_type": "code",
   "execution_count": 23,
   "metadata": {
    "id": "NP83Si23-N9Q"
   },
   "outputs": [
    {
     "data": {
      "text/html": [
       "<div>\n",
       "<style scoped>\n",
       "    .dataframe tbody tr th:only-of-type {\n",
       "        vertical-align: middle;\n",
       "    }\n",
       "\n",
       "    .dataframe tbody tr th {\n",
       "        vertical-align: top;\n",
       "    }\n",
       "\n",
       "    .dataframe thead th {\n",
       "        text-align: right;\n",
       "    }\n",
       "</style>\n",
       "<table border=\"1\" class=\"dataframe\">\n",
       "  <thead>\n",
       "    <tr style=\"text-align: right;\">\n",
       "      <th></th>\n",
       "      <th>Title</th>\n",
       "      <th>Author</th>\n",
       "      <th>Genre</th>\n",
       "      <th>Price</th>\n",
       "      <th>Sold</th>\n",
       "      <th>Revenue</th>\n",
       "    </tr>\n",
       "  </thead>\n",
       "  <tbody>\n",
       "    <tr>\n",
       "      <th>3</th>\n",
       "      <td>Journey to the Stars</td>\n",
       "      <td>Bob Brown</td>\n",
       "      <td>Sci-fi</td>\n",
       "      <td>18</td>\n",
       "      <td>2200</td>\n",
       "      <td>39600</td>\n",
       "    </tr>\n",
       "    <tr>\n",
       "      <th>0</th>\n",
       "      <td>The Great Tale</td>\n",
       "      <td>John Doe</td>\n",
       "      <td>Fiction</td>\n",
       "      <td>15</td>\n",
       "      <td>1500</td>\n",
       "      <td>22500</td>\n",
       "    </tr>\n",
       "    <tr>\n",
       "      <th>1</th>\n",
       "      <td>Mystery of the Night</td>\n",
       "      <td>Jane Smith</td>\n",
       "      <td>Mystery</td>\n",
       "      <td>20</td>\n",
       "      <td>890</td>\n",
       "      <td>17800</td>\n",
       "    </tr>\n",
       "  </tbody>\n",
       "</table>\n",
       "</div>"
      ],
      "text/plain": [
       "                  Title      Author    Genre  Price  Sold  Revenue\n",
       "3  Journey to the Stars   Bob Brown   Sci-fi     18  2200    39600\n",
       "0        The Great Tale    John Doe  Fiction     15  1500    22500\n",
       "1  Mystery of the Night  Jane Smith  Mystery     20   890    17800"
      ]
     },
     "execution_count": 23,
     "metadata": {},
     "output_type": "execute_result"
    }
   ],
   "source": [
    "df_best_seller = df.sort_values(ascending=False, by=\"Revenue\")\n",
    "df_best_seller[0:3]"
   ]
  },
  {
   "cell_type": "code",
   "execution_count": null,
   "metadata": {},
   "outputs": [],
   "source": []
  }
 ],
 "metadata": {
  "colab": {
   "provenance": [],
   "toc_visible": true
  },
  "kernelspec": {
   "display_name": "Python 3 (ipykernel)",
   "language": "python",
   "name": "python3"
  },
  "language_info": {
   "codemirror_mode": {
    "name": "ipython",
    "version": 3
   },
   "file_extension": ".py",
   "mimetype": "text/x-python",
   "name": "python",
   "nbconvert_exporter": "python",
   "pygments_lexer": "ipython3",
   "version": "3.11.5"
  }
 },
 "nbformat": 4,
 "nbformat_minor": 1
}
